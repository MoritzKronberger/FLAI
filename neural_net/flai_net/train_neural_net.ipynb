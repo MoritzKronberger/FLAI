{
 "cells": [
  {
   "cell_type": "markdown",
   "metadata": {},
   "source": [
    "# FLAI_Net Training"
   ]
  },
  {
   "cell_type": "code",
   "execution_count": 1,
   "metadata": {},
   "outputs": [],
   "source": [
    "import numpy as np\n",
    "import pandas as pd\n",
    "import matplotlib.pyplot as plt"
   ]
  },
  {
   "cell_type": "markdown",
   "metadata": {},
   "source": [
    "## Import Dataset"
   ]
  },
  {
   "cell_type": "code",
   "execution_count": 2,
   "metadata": {},
   "outputs": [
    {
     "data": {
      "text/html": [
       "<div>\n",
       "<style scoped>\n",
       "    .dataframe tbody tr th:only-of-type {\n",
       "        vertical-align: middle;\n",
       "    }\n",
       "\n",
       "    .dataframe tbody tr th {\n",
       "        vertical-align: top;\n",
       "    }\n",
       "\n",
       "    .dataframe thead th {\n",
       "        text-align: right;\n",
       "    }\n",
       "</style>\n",
       "<table border=\"1\" class=\"dataframe\">\n",
       "  <thead>\n",
       "    <tr style=\"text-align: right;\">\n",
       "      <th></th>\n",
       "      <th>user</th>\n",
       "      <th>label</th>\n",
       "      <th>coordinate 0</th>\n",
       "      <th>coordinate 1</th>\n",
       "      <th>coordinate 2</th>\n",
       "      <th>coordinate 3</th>\n",
       "      <th>coordinate 4</th>\n",
       "      <th>coordinate 5</th>\n",
       "      <th>coordinate 6</th>\n",
       "      <th>coordinate 7</th>\n",
       "      <th>...</th>\n",
       "      <th>coordinate 53</th>\n",
       "      <th>coordinate 54</th>\n",
       "      <th>coordinate 55</th>\n",
       "      <th>coordinate 56</th>\n",
       "      <th>coordinate 57</th>\n",
       "      <th>coordinate 58</th>\n",
       "      <th>coordinate 59</th>\n",
       "      <th>coordinate 60</th>\n",
       "      <th>coordinate 61</th>\n",
       "      <th>coordinate 62</th>\n",
       "    </tr>\n",
       "  </thead>\n",
       "  <tbody>\n",
       "    <tr>\n",
       "      <th>0</th>\n",
       "      <td>lea</td>\n",
       "      <td>a</td>\n",
       "      <td>0.699433</td>\n",
       "      <td>0.694308</td>\n",
       "      <td>-5.125001e-07</td>\n",
       "      <td>0.648201</td>\n",
       "      <td>0.623592</td>\n",
       "      <td>-0.013627</td>\n",
       "      <td>0.620721</td>\n",
       "      <td>0.537524</td>\n",
       "      <td>...</td>\n",
       "      <td>-0.021148</td>\n",
       "      <td>0.727923</td>\n",
       "      <td>0.482140</td>\n",
       "      <td>-0.033280</td>\n",
       "      <td>0.721847</td>\n",
       "      <td>0.531752</td>\n",
       "      <td>-0.020166</td>\n",
       "      <td>0.734710</td>\n",
       "      <td>0.541902</td>\n",
       "      <td>-0.006052</td>\n",
       "    </tr>\n",
       "    <tr>\n",
       "      <th>2055</th>\n",
       "      <td>Martin</td>\n",
       "      <td>a</td>\n",
       "      <td>0.755843</td>\n",
       "      <td>0.946230</td>\n",
       "      <td>-7.576355e-07</td>\n",
       "      <td>0.596653</td>\n",
       "      <td>0.829356</td>\n",
       "      <td>-0.110176</td>\n",
       "      <td>0.508049</td>\n",
       "      <td>0.659072</td>\n",
       "      <td>...</td>\n",
       "      <td>-0.162198</td>\n",
       "      <td>0.919824</td>\n",
       "      <td>0.336035</td>\n",
       "      <td>-0.268012</td>\n",
       "      <td>0.894528</td>\n",
       "      <td>0.449780</td>\n",
       "      <td>-0.275523</td>\n",
       "      <td>0.853873</td>\n",
       "      <td>0.497211</td>\n",
       "      <td>-0.263470</td>\n",
       "    </tr>\n",
       "    <tr>\n",
       "      <th>2054</th>\n",
       "      <td>Martin</td>\n",
       "      <td>a</td>\n",
       "      <td>0.448966</td>\n",
       "      <td>0.805226</td>\n",
       "      <td>-6.289455e-07</td>\n",
       "      <td>0.553169</td>\n",
       "      <td>0.762983</td>\n",
       "      <td>-0.027101</td>\n",
       "      <td>0.617719</td>\n",
       "      <td>0.629570</td>\n",
       "      <td>...</td>\n",
       "      <td>-0.031833</td>\n",
       "      <td>0.432160</td>\n",
       "      <td>0.389669</td>\n",
       "      <td>-0.056247</td>\n",
       "      <td>0.446245</td>\n",
       "      <td>0.467956</td>\n",
       "      <td>-0.039005</td>\n",
       "      <td>0.441467</td>\n",
       "      <td>0.513121</td>\n",
       "      <td>-0.018076</td>\n",
       "    </tr>\n",
       "    <tr>\n",
       "      <th>2053</th>\n",
       "      <td>Martin</td>\n",
       "      <td>a</td>\n",
       "      <td>0.642172</td>\n",
       "      <td>0.783267</td>\n",
       "      <td>-9.619788e-07</td>\n",
       "      <td>0.548792</td>\n",
       "      <td>0.735658</td>\n",
       "      <td>-0.047853</td>\n",
       "      <td>0.478785</td>\n",
       "      <td>0.619713</td>\n",
       "      <td>...</td>\n",
       "      <td>-0.012934</td>\n",
       "      <td>0.690963</td>\n",
       "      <td>0.380511</td>\n",
       "      <td>-0.038585</td>\n",
       "      <td>0.675585</td>\n",
       "      <td>0.456306</td>\n",
       "      <td>-0.021411</td>\n",
       "      <td>0.669445</td>\n",
       "      <td>0.498558</td>\n",
       "      <td>-0.000121</td>\n",
       "    </tr>\n",
       "    <tr>\n",
       "      <th>2052</th>\n",
       "      <td>Martin</td>\n",
       "      <td>a</td>\n",
       "      <td>0.712538</td>\n",
       "      <td>0.878059</td>\n",
       "      <td>-1.231915e-06</td>\n",
       "      <td>0.591809</td>\n",
       "      <td>0.799211</td>\n",
       "      <td>-0.057425</td>\n",
       "      <td>0.506353</td>\n",
       "      <td>0.622470</td>\n",
       "      <td>...</td>\n",
       "      <td>-0.024946</td>\n",
       "      <td>0.815513</td>\n",
       "      <td>0.338214</td>\n",
       "      <td>-0.068287</td>\n",
       "      <td>0.788838</td>\n",
       "      <td>0.439484</td>\n",
       "      <td>-0.054281</td>\n",
       "      <td>0.773832</td>\n",
       "      <td>0.491689</td>\n",
       "      <td>-0.031064</td>\n",
       "    </tr>\n",
       "  </tbody>\n",
       "</table>\n",
       "<p>5 rows × 65 columns</p>\n",
       "</div>"
      ],
      "text/plain": [
       "        user label  coordinate 0  coordinate 1  coordinate 2  coordinate 3  \\\n",
       "0        lea     a      0.699433      0.694308 -5.125001e-07      0.648201   \n",
       "2055  Martin     a      0.755843      0.946230 -7.576355e-07      0.596653   \n",
       "2054  Martin     a      0.448966      0.805226 -6.289455e-07      0.553169   \n",
       "2053  Martin     a      0.642172      0.783267 -9.619788e-07      0.548792   \n",
       "2052  Martin     a      0.712538      0.878059 -1.231915e-06      0.591809   \n",
       "\n",
       "      coordinate 4  coordinate 5  coordinate 6  coordinate 7  ...  \\\n",
       "0         0.623592     -0.013627      0.620721      0.537524  ...   \n",
       "2055      0.829356     -0.110176      0.508049      0.659072  ...   \n",
       "2054      0.762983     -0.027101      0.617719      0.629570  ...   \n",
       "2053      0.735658     -0.047853      0.478785      0.619713  ...   \n",
       "2052      0.799211     -0.057425      0.506353      0.622470  ...   \n",
       "\n",
       "      coordinate 53  coordinate 54  coordinate 55  coordinate 56  \\\n",
       "0         -0.021148       0.727923       0.482140      -0.033280   \n",
       "2055      -0.162198       0.919824       0.336035      -0.268012   \n",
       "2054      -0.031833       0.432160       0.389669      -0.056247   \n",
       "2053      -0.012934       0.690963       0.380511      -0.038585   \n",
       "2052      -0.024946       0.815513       0.338214      -0.068287   \n",
       "\n",
       "      coordinate 57  coordinate 58  coordinate 59  coordinate 60  \\\n",
       "0          0.721847       0.531752      -0.020166       0.734710   \n",
       "2055       0.894528       0.449780      -0.275523       0.853873   \n",
       "2054       0.446245       0.467956      -0.039005       0.441467   \n",
       "2053       0.675585       0.456306      -0.021411       0.669445   \n",
       "2052       0.788838       0.439484      -0.054281       0.773832   \n",
       "\n",
       "      coordinate 61  coordinate 62  \n",
       "0          0.541902      -0.006052  \n",
       "2055       0.497211      -0.263470  \n",
       "2054       0.513121      -0.018076  \n",
       "2053       0.498558      -0.000121  \n",
       "2052       0.491689      -0.031064  \n",
       "\n",
       "[5 rows x 65 columns]"
      ]
     },
     "execution_count": 2,
     "metadata": {},
     "output_type": "execute_result"
    }
   ],
   "source": [
    "ds = pd.read_csv('../dataset/flai_data.csv')\n",
    "ds = ds.sort_values('label')\n",
    "ds.head()"
   ]
  },
  {
   "cell_type": "markdown",
   "metadata": {},
   "source": [
    "### Dataset Statistics"
   ]
  },
  {
   "cell_type": "code",
   "execution_count": 3,
   "metadata": {},
   "outputs": [
    {
     "name": "stdout",
     "output_type": "stream",
     "text": [
      "Samples: 7306\n",
      "Unique contributors: 7\n",
      "Classes: ['a' 'b' 'c' 'd' 'e' 'f' 'g' 'h' 'i' 'k' 'l' 'm' 'n' 'o' 'p' 'q' 'r' 's'\n",
      " 't' 'u' 'v' 'w' 'x' 'y']\n"
     ]
    }
   ],
   "source": [
    "num_samples = len(ds)\n",
    "num_contributors = len(pd.unique(ds.user))\n",
    "classes = pd.unique(ds.label)\n",
    "print(f'Samples: {num_samples}')\n",
    "print(f'Unique contributors: {num_contributors}')\n",
    "print(f'Classes: {classes}')"
   ]
  },
  {
   "cell_type": "code",
   "execution_count": 4,
   "metadata": {},
   "outputs": [
    {
     "data": {
      "image/png": "[encoded data removed]",
      "text/plain": [
       "<Figure size 432x288 with 1 Axes>"
      ]
     },
     "metadata": {
      "needs_background": "light"
     },
     "output_type": "display_data"
    }
   ],
   "source": [
    "samples_per_label = ds.label.value_counts().sort_index()\n",
    "color = (112/255, 219/255, 189/255)\n",
    "x_pos = [i for i in range(len(samples_per_label.index))]\n",
    "plt.bar(x_pos, samples_per_label, color=color)\n",
    "plt.xticks(x_pos, samples_per_label.index)\n",
    "plt.ylabel('Samples per Class')\n",
    "plt.title('Sample Count per Class')\n",
    "plt.show()"
   ]
  },
  {
   "cell_type": "markdown",
   "metadata": {},
   "source": [
    "### Shuffle and Split Dataset"
   ]
  },
  {
   "cell_type": "code",
   "execution_count": 5,
   "metadata": {},
   "outputs": [],
   "source": [
    "ds_y = ds.label.array\n",
    "ds_y = pd.factorize(ds_y)[0]\n",
    "ds_y = np.array(ds_y)\n",
    "\n",
    "ds_x = ds.drop(['label', 'user'], axis=1)\n",
    "ds_x = ds_x.to_numpy()"
   ]
  },
  {
   "cell_type": "markdown",
   "metadata": {},
   "source": [
    "### Reshape Landmark Vectors"
   ]
  },
  {
   "cell_type": "code",
   "execution_count": 6,
   "metadata": {},
   "outputs": [
    {
     "name": "stdout",
     "output_type": "stream",
     "text": [
      "(7306,)\n",
      "(7306, 63)\n"
     ]
    }
   ],
   "source": [
    "print(ds_y.shape)\n",
    "print(ds_x.shape)"
   ]
  },
  {
   "cell_type": "code",
   "execution_count": 7,
   "metadata": {},
   "outputs": [
    {
     "name": "stdout",
     "output_type": "stream",
     "text": [
      "(7306, 21, 3)\n"
     ]
    }
   ],
   "source": [
    "num_samples = ds_x.shape[0]\n",
    "dim = 3\n",
    "landmarks = 21\n",
    "ds_x = ds_x.reshape((num_samples, landmarks, dim))\n",
    "print(ds_x.shape)"
   ]
  },
  {
   "cell_type": "code",
   "execution_count": 8,
   "metadata": {},
   "outputs": [],
   "source": [
    "from sklearn.model_selection import train_test_split\n",
    "x_train, x_test, y_train, y_test = train_test_split(ds_x, ds_y, test_size=0.2, random_state=42)"
   ]
  },
  {
   "cell_type": "code",
   "execution_count": 9,
   "metadata": {},
   "outputs": [
    {
     "name": "stdout",
     "output_type": "stream",
     "text": [
      "(5844, 21, 3)\n",
      "(5844,)\n",
      "(1462, 21, 3)\n",
      "(1462,)\n"
     ]
    }
   ],
   "source": [
    "print(x_train.shape)\n",
    "print(y_train.shape)\n",
    "print(x_test.shape)\n",
    "print(y_test.shape)"
   ]
  },
  {
   "cell_type": "markdown",
   "metadata": {},
   "source": [
    "### Plot Vectors"
   ]
  },
  {
   "cell_type": "code",
   "execution_count": 10,
   "metadata": {},
   "outputs": [
    {
     "data": {
      "image/png": "[encoded data removed]",
      "text/plain": [
       "<Figure size 432x288 with 1 Axes>"
      ]
     },
     "metadata": {
      "needs_background": "light"
     },
     "output_type": "display_data"
    }
   ],
   "source": [
    "num = 10\n",
    "example = ds_x[num]\n",
    "label = ds_y[num]\n",
    "\n",
    "fig = plt.figure()\n",
    "ax = fig.add_subplot(projection='3d')\n",
    "\n",
    "for vec in example:\n",
    "    ax.scatter(vec[0], vec[2], vec[1], c=[color])\n",
    "\n",
    "plt.title(f'Label: {classes[label]}')\n",
    "ax.set_xlabel('X')\n",
    "ax.set_ylabel('Z')\n",
    "ax.set_zlabel('Y')\n",
    "\n",
    "plt.show()"
   ]
  },
  {
   "cell_type": "markdown",
   "metadata": {},
   "source": [
    "## Train Neural Network"
   ]
  },
  {
   "cell_type": "markdown",
   "metadata": {},
   "source": [
    "### Set Hyperparameters"
   ]
  },
  {
   "cell_type": "code",
   "execution_count": 11,
   "metadata": {},
   "outputs": [],
   "source": [
    "epochs = 10\n",
    "val_split = .2"
   ]
  },
  {
   "cell_type": "markdown",
   "metadata": {},
   "source": [
    "### Labels to One Hot"
   ]
  },
  {
   "cell_type": "code",
   "execution_count": 12,
   "metadata": {},
   "outputs": [
    {
     "name": "stdout",
     "output_type": "stream",
     "text": [
      "(5844, 24)\n",
      "(1462, 24)\n"
     ]
    }
   ],
   "source": [
    "from tensorflow.keras.utils import to_categorical\n",
    "\n",
    "y_train = to_categorical(y_train.astype(int))\n",
    "y_test = to_categorical(y_test.astype(int))\n",
    "\n",
    "print(y_train.shape)\n",
    "print(y_test.shape)"
   ]
  },
  {
   "cell_type": "markdown",
   "metadata": {},
   "source": [
    "### Create Callbacks"
   ]
  },
  {
   "cell_type": "code",
   "execution_count": 13,
   "metadata": {},
   "outputs": [],
   "source": [
    "from tensorflow.keras.callbacks import EarlyStopping, ReduceLROnPlateau\n",
    "\n",
    "early_stop = EarlyStopping(monitor='val_acc',\n",
    "                           restore_best_weights=True,\n",
    "                           patience=10,\n",
    "                           verbose=1)\n",
    "\n",
    "reduce_lr = ReduceLROnPlateau(monitor='val_acc',\n",
    "                              factor=0.2,\n",
    "                              min_lr=0.00001,\n",
    "                              patience=5,\n",
    "                              verbose=1)"
   ]
  },
  {
   "cell_type": "markdown",
   "metadata": {},
   "source": [
    "### Create Model"
   ]
  },
  {
   "cell_type": "code",
   "execution_count": 14,
   "metadata": {},
   "outputs": [
    {
     "name": "stdout",
     "output_type": "stream",
     "text": [
      "Model: \"Deep_Flai_6\"\n",
      "_________________________________________________________________\n",
      " Layer (type)                Output Shape              Param #   \n",
      "=================================================================\n",
      " input_1 (InputLayer)        [(None, 21, 3)]           0         \n",
      "                                                                 \n",
      " layer_normalization (LayerN  (None, 21, 3)            6         \n",
      " ormalization)                                                   \n",
      "                                                                 \n",
      " flatten (Flatten)           (None, 63)                0         \n",
      "                                                                 \n",
      " Dense_1 (Dense)             (None, 1728)              110592    \n",
      "                                                                 \n",
      " Dropout_1 (AlphaDropout)    (None, 1728)              0         \n",
      "                                                                 \n",
      " Dense_2 (Dense)             (None, 1200)              2074800   \n",
      "                                                                 \n",
      " Dropout_2 (AlphaDropout)    (None, 1200)              0         \n",
      "                                                                 \n",
      " Dense_3 (Dense)             (None, 768)               922368    \n",
      "                                                                 \n",
      " Dropout_3 (AlphaDropout)    (None, 768)               0         \n",
      "                                                                 \n",
      " Dense_4 (Dense)             (None, 432)               332208    \n",
      "                                                                 \n",
      " Dropout_4 (AlphaDropout)    (None, 432)               0         \n",
      "                                                                 \n",
      " Dense_5 (Dense)             (None, 192)               83136     \n",
      "                                                                 \n",
      " Dropout_5 (AlphaDropout)    (None, 192)               0         \n",
      "                                                                 \n",
      " Dense_6 (Dense)             (None, 48)                9264      \n",
      "                                                                 \n",
      " Dropout_6 (AlphaDropout)    (None, 48)                0         \n",
      "                                                                 \n",
      " output_dense (Dense)        (None, 24)                1176      \n",
      "                                                                 \n",
      "=================================================================\n",
      "Total params: 3,533,550\n",
      "Trainable params: 3,533,550\n",
      "Non-trainable params: 0\n",
      "_________________________________________________________________\n"
     ]
    }
   ],
   "source": [
    "from tensorflow.keras import Input, Model\n",
    "from tensorflow.keras.layers import Dense, Flatten, AlphaDropout, LayerNormalization\n",
    "\n",
    "inputs = Input(shape=x_train[0].shape)\n",
    "\n",
    "layerNorm = LayerNormalization()(inputs)\n",
    "\n",
    "flatten = Flatten()(layerNorm)\n",
    "\n",
    "dense_count = 6\n",
    "dense_base = 48\n",
    "out = flatten\n",
    "\n",
    "for i in range(dense_count):\n",
    "    units = (dense_count-i) * (dense_count-i) * dense_base\n",
    "    dense = Dense(units, \n",
    "                  kernel_initializer=\"lecun_normal\", \n",
    "                  bias_initializer=\"zeros\", \n",
    "                  activation='selu',\n",
    "                  name=f'Dense_{i+1}')\n",
    "    a_dropout = AlphaDropout(0.05, name=f'Dropout_{i+1}')\n",
    "    out = dense(out)\n",
    "    out = a_dropout(out)\n",
    "\n",
    "outputs = Dense(y_train[0].shape[0], activation='softmax', name='output_dense')(out)\n",
    "model = Model(inputs=inputs, outputs=outputs, name=\"Deep_Flai_6\")\n",
    "model.summary()"
   ]
  },
  {
   "cell_type": "markdown",
   "metadata": {},
   "source": [
    "### Train Model"
   ]
  },
  {
   "cell_type": "code",
   "execution_count": 15,
   "metadata": {},
   "outputs": [
    {
     "name": "stdout",
     "output_type": "stream",
     "text": [
      "Epoch 1/100\n",
      "147/147 [==============================] - 8s 39ms/step - loss: 3.1510 - acc: 0.0995 - val_loss: 2.2988 - val_acc: 0.2703 - lr: 0.0010\n",
      "Epoch 2/100\n",
      "147/147 [==============================] - 6s 38ms/step - loss: 1.9680 - acc: 0.3260 - val_loss: 1.3679 - val_acc: 0.4927 - lr: 0.0010\n",
      "Epoch 3/100\n",
      "147/147 [==============================] - 8s 52ms/step - loss: 1.3645 - acc: 0.5010 - val_loss: 1.1497 - val_acc: 0.5877 - lr: 0.0010\n",
      "Epoch 4/100\n",
      "147/147 [==============================] - 7s 48ms/step - loss: 1.0522 - acc: 0.6090 - val_loss: 0.8319 - val_acc: 0.7032 - lr: 0.0010\n",
      "Epoch 5/100\n",
      "147/147 [==============================] - 6s 43ms/step - loss: 0.9241 - acc: 0.6449 - val_loss: 0.7646 - val_acc: 0.7254 - lr: 0.0010\n",
      "Epoch 6/100\n",
      "147/147 [==============================] - 6s 43ms/step - loss: 0.8078 - acc: 0.6937 - val_loss: 0.5861 - val_acc: 0.8067 - lr: 0.0010\n",
      "Epoch 7/100\n",
      "147/147 [==============================] - 6s 40ms/step - loss: 0.7629 - acc: 0.7080 - val_loss: 0.6104 - val_acc: 0.7921 - lr: 0.0010\n",
      "Epoch 8/100\n",
      "147/147 [==============================] - 8s 56ms/step - loss: 0.6488 - acc: 0.7581 - val_loss: 0.6487 - val_acc: 0.7665 - lr: 0.0010\n",
      "Epoch 9/100\n",
      "147/147 [==============================] - 6s 42ms/step - loss: 0.6056 - acc: 0.7739 - val_loss: 0.5447 - val_acc: 0.8238 - lr: 0.0010\n",
      "Epoch 10/100\n",
      "147/147 [==============================] - 6s 39ms/step - loss: 0.5816 - acc: 0.7803 - val_loss: 0.4695 - val_acc: 0.8392 - lr: 0.0010\n",
      "Epoch 11/100\n",
      "147/147 [==============================] - 6s 42ms/step - loss: 0.5478 - acc: 0.7942 - val_loss: 0.4384 - val_acc: 0.8443 - lr: 0.0010\n",
      "Epoch 12/100\n",
      "147/147 [==============================] - 6s 41ms/step - loss: 0.4988 - acc: 0.8139 - val_loss: 0.5397 - val_acc: 0.8315 - lr: 0.0010\n",
      "Epoch 13/100\n",
      "147/147 [==============================] - 6s 41ms/step - loss: 0.4868 - acc: 0.8229 - val_loss: 0.3823 - val_acc: 0.8623 - lr: 0.0010\n",
      "Epoch 14/100\n",
      "147/147 [==============================] - 6s 41ms/step - loss: 0.4691 - acc: 0.8250 - val_loss: 0.4648 - val_acc: 0.8529 - lr: 0.0010\n",
      "Epoch 15/100\n",
      "147/147 [==============================] - 6s 43ms/step - loss: 0.5031 - acc: 0.8195 - val_loss: 0.3335 - val_acc: 0.8965 - lr: 0.0010\n",
      "Epoch 16/100\n",
      "147/147 [==============================] - 7s 47ms/step - loss: 0.4272 - acc: 0.8385 - val_loss: 0.3589 - val_acc: 0.8734 - lr: 0.0010\n",
      "Epoch 17/100\n",
      "147/147 [==============================] - 6s 42ms/step - loss: 0.4140 - acc: 0.8466 - val_loss: 0.3624 - val_acc: 0.8845 - lr: 0.0010\n",
      "Epoch 18/100\n",
      "147/147 [==============================] - 5s 36ms/step - loss: 0.3876 - acc: 0.8522 - val_loss: 0.3468 - val_acc: 0.8845 - lr: 0.0010\n",
      "Epoch 19/100\n",
      "147/147 [==============================] - 5s 36ms/step - loss: 0.3904 - acc: 0.8567 - val_loss: 0.3690 - val_acc: 0.8879 - lr: 0.0010\n",
      "Epoch 20/100\n",
      "146/147 [============================>.] - ETA: 0s - loss: 0.3783 - acc: 0.8566\n",
      "Epoch 00020: ReduceLROnPlateau reducing learning rate to 0.00020000000949949026.\n",
      "147/147 [==============================] - 5s 34ms/step - loss: 0.3783 - acc: 0.8567 - val_loss: 0.4252 - val_acc: 0.8743 - lr: 0.0010\n",
      "Epoch 21/100\n",
      "147/147 [==============================] - 5s 35ms/step - loss: 0.2892 - acc: 0.8913 - val_loss: 0.2373 - val_acc: 0.9187 - lr: 2.0000e-04\n",
      "Epoch 22/100\n",
      "147/147 [==============================] - 5s 35ms/step - loss: 0.2530 - acc: 0.9012 - val_loss: 0.2302 - val_acc: 0.9196 - lr: 2.0000e-04\n",
      "Epoch 23/100\n",
      "147/147 [==============================] - 5s 34ms/step - loss: 0.2508 - acc: 0.9033 - val_loss: 0.2279 - val_acc: 0.9187 - lr: 2.0000e-04\n",
      "Epoch 24/100\n",
      "147/147 [==============================] - 5s 33ms/step - loss: 0.2354 - acc: 0.9102 - val_loss: 0.2209 - val_acc: 0.9316 - lr: 2.0000e-04\n",
      "Epoch 25/100\n",
      "147/147 [==============================] - 7s 45ms/step - loss: 0.2345 - acc: 0.9084 - val_loss: 0.2183 - val_acc: 0.9350 - lr: 2.0000e-04\n",
      "Epoch 26/100\n",
      "147/147 [==============================] - 6s 39ms/step - loss: 0.2343 - acc: 0.9112 - val_loss: 0.2186 - val_acc: 0.9299 - lr: 2.0000e-04\n",
      "Epoch 27/100\n",
      "147/147 [==============================] - 5s 37ms/step - loss: 0.2343 - acc: 0.9114 - val_loss: 0.2154 - val_acc: 0.9350 - lr: 2.0000e-04\n",
      "Epoch 28/100\n",
      "147/147 [==============================] - 6s 39ms/step - loss: 0.2262 - acc: 0.9140 - val_loss: 0.2247 - val_acc: 0.9281 - lr: 2.0000e-04\n",
      "Epoch 29/100\n",
      "147/147 [==============================] - 5s 36ms/step - loss: 0.2327 - acc: 0.9142 - val_loss: 0.2174 - val_acc: 0.9273 - lr: 2.0000e-04\n",
      "Epoch 30/100\n",
      "146/147 [============================>.] - ETA: 0s - loss: 0.2283 - acc: 0.9131\n",
      "Epoch 00030: ReduceLROnPlateau reducing learning rate to 4.0000001899898055e-05.\n",
      "147/147 [==============================] - 5s 36ms/step - loss: 0.2282 - acc: 0.9132 - val_loss: 0.2325 - val_acc: 0.9299 - lr: 2.0000e-04\n",
      "Epoch 31/100\n",
      "147/147 [==============================] - 5s 37ms/step - loss: 0.2147 - acc: 0.9170 - val_loss: 0.2057 - val_acc: 0.9358 - lr: 4.0000e-05\n",
      "Epoch 32/100\n",
      "147/147 [==============================] - 5s 36ms/step - loss: 0.1984 - acc: 0.9228 - val_loss: 0.1983 - val_acc: 0.9376 - lr: 4.0000e-05\n",
      "Epoch 33/100\n",
      "147/147 [==============================] - 5s 36ms/step - loss: 0.1991 - acc: 0.9234 - val_loss: 0.2008 - val_acc: 0.9376 - lr: 4.0000e-05\n",
      "Epoch 34/100\n",
      "147/147 [==============================] - 5s 37ms/step - loss: 0.1994 - acc: 0.9213 - val_loss: 0.2046 - val_acc: 0.9350 - lr: 4.0000e-05\n",
      "Epoch 35/100\n",
      "147/147 [==============================] - 5s 36ms/step - loss: 0.2081 - acc: 0.9234 - val_loss: 0.2014 - val_acc: 0.9358 - lr: 4.0000e-05\n",
      "Epoch 36/100\n",
      "147/147 [==============================] - 6s 41ms/step - loss: 0.1993 - acc: 0.9273 - val_loss: 0.2001 - val_acc: 0.9384 - lr: 4.0000e-05\n",
      "Epoch 37/100\n",
      "147/147 [==============================] - 5s 37ms/step - loss: 0.2034 - acc: 0.9228 - val_loss: 0.2015 - val_acc: 0.9341 - lr: 4.0000e-05\n",
      "Epoch 38/100\n",
      "147/147 [==============================] - 5s 35ms/step - loss: 0.2097 - acc: 0.9194 - val_loss: 0.2032 - val_acc: 0.9341 - lr: 4.0000e-05\n",
      "Epoch 39/100\n",
      "147/147 [==============================] - 5s 35ms/step - loss: 0.2027 - acc: 0.9215 - val_loss: 0.1984 - val_acc: 0.9358 - lr: 4.0000e-05\n",
      "Epoch 40/100\n",
      "147/147 [==============================] - 6s 41ms/step - loss: 0.2026 - acc: 0.9215 - val_loss: 0.1934 - val_acc: 0.9384 - lr: 4.0000e-05\n",
      "Epoch 41/100\n",
      "147/147 [==============================] - 5s 37ms/step - loss: 0.1939 - acc: 0.9271 - val_loss: 0.1958 - val_acc: 0.9401 - lr: 4.0000e-05\n",
      "Epoch 42/100\n",
      "147/147 [==============================] - 5s 36ms/step - loss: 0.1971 - acc: 0.9230 - val_loss: 0.1998 - val_acc: 0.9333 - lr: 4.0000e-05\n",
      "Epoch 43/100\n",
      "147/147 [==============================] - 5s 37ms/step - loss: 0.1960 - acc: 0.9228 - val_loss: 0.2000 - val_acc: 0.9393 - lr: 4.0000e-05\n",
      "Epoch 44/100\n",
      "147/147 [==============================] - 5s 35ms/step - loss: 0.1928 - acc: 0.9271 - val_loss: 0.2036 - val_acc: 0.9367 - lr: 4.0000e-05\n",
      "Epoch 45/100\n",
      "147/147 [==============================] - 5s 36ms/step - loss: 0.1944 - acc: 0.9275 - val_loss: 0.2034 - val_acc: 0.9376 - lr: 4.0000e-05\n",
      "Epoch 46/100\n",
      "147/147 [==============================] - ETA: 0s - loss: 0.1966 - acc: 0.9232\n",
      "Epoch 00046: ReduceLROnPlateau reducing learning rate to 1e-05.\n",
      "147/147 [==============================] - 5s 37ms/step - loss: 0.1966 - acc: 0.9232 - val_loss: 0.2023 - val_acc: 0.9367 - lr: 4.0000e-05\n",
      "Epoch 47/100\n",
      "147/147 [==============================] - 5s 36ms/step - loss: 0.1921 - acc: 0.9266 - val_loss: 0.2013 - val_acc: 0.9384 - lr: 1.0000e-05\n",
      "Epoch 48/100\n",
      "147/147 [==============================] - 6s 39ms/step - loss: 0.1953 - acc: 0.9245 - val_loss: 0.2010 - val_acc: 0.9393 - lr: 1.0000e-05\n",
      "Epoch 49/100\n",
      "147/147 [==============================] - 7s 48ms/step - loss: 0.1940 - acc: 0.9266 - val_loss: 0.1993 - val_acc: 0.9393 - lr: 1.0000e-05\n",
      "Epoch 50/100\n",
      "147/147 [==============================] - 8s 57ms/step - loss: 0.1928 - acc: 0.9286 - val_loss: 0.2015 - val_acc: 0.9384 - lr: 1.0000e-05\n",
      "Epoch 51/100\n",
      "146/147 [============================>.] - ETA: 0s - loss: 0.1896 - acc: 0.9307Restoring model weights from the end of the best epoch: 41.\n",
      "147/147 [==============================] - 8s 56ms/step - loss: 0.1895 - acc: 0.9307 - val_loss: 0.2003 - val_acc: 0.9393 - lr: 1.0000e-05\n",
      "Epoch 00051: early stopping\n"
     ]
    }
   ],
   "source": [
    "from tensorflow.keras.optimizers import Adam\n",
    "\n",
    "adam = Adam(learning_rate=0.001, beta_2=0.99, epsilon=0.01)\n",
    "\n",
    "model.compile(loss='categorical_crossentropy',\n",
    "              optimizer=adam,\n",
    "              metrics=['acc'])\n",
    "\n",
    "history = model.fit(x_train, y_train,\n",
    "                      epochs=100,\n",
    "                      batch_size=32,\n",
    "                      validation_split=val_split,\n",
    "                      callbacks=[early_stop, reduce_lr])"
   ]
  },
  {
   "cell_type": "code",
   "execution_count": 16,
   "metadata": {},
   "outputs": [
    {
     "data": {
      "text/plain": [
       "<matplotlib.legend.Legend at 0x21fa47a1c70>"
      ]
     },
     "execution_count": 16,
     "metadata": {},
     "output_type": "execute_result"
    },
    {
     "data": {
      "image/png": "[encoded data removed]",
      "text/plain": [
       "<Figure size 864x576 with 2 Axes>"
      ]
     },
     "metadata": {
      "needs_background": "light"
     },
     "output_type": "display_data"
    }
   ],
   "source": [
    "plt.figure(figsize=(12, 8))\n",
    "\n",
    "plt.subplot(2, 2, 1)\n",
    "plt.plot(history.history['loss'], label='train loss')\n",
    "plt.plot(history.history['val_loss'], label='val loss')\n",
    "plt.legend()\n",
    "\n",
    "plt.subplot(2, 2, 2)\n",
    "plt.plot(history.history['acc'], label='train acc')\n",
    "plt.plot(history.history['val_acc'], label='val acc')\n",
    "plt.legend()"
   ]
  },
  {
   "cell_type": "markdown",
   "metadata": {},
   "source": [
    "### Save Model"
   ]
  },
  {
   "cell_type": "code",
   "execution_count": 17,
   "metadata": {},
   "outputs": [],
   "source": [
    "model.save(f'{model.name}.h5')"
   ]
  },
  {
   "cell_type": "markdown",
   "metadata": {},
   "source": [
    "## Store Variables"
   ]
  },
  {
   "cell_type": "code",
   "execution_count": 18,
   "metadata": {},
   "outputs": [
    {
     "name": "stdout",
     "output_type": "stream",
     "text": [
      "Stored 'x_test' (ndarray)\n",
      "Stored 'y_test' (ndarray)\n",
      "Stored 'model_name' (str)\n",
      "Stored 'classes' (ndarray)\n"
     ]
    }
   ],
   "source": [
    "model_name = model.name\n",
    "%store x_test\n",
    "%store y_test\n",
    "%store model_name\n",
    "%store classes\n",
    "del x_test\n",
    "del y_test\n",
    "del model_name\n",
    "del classes"
   ]
  }
 ],
 "metadata": {
  "kernelspec": {
   "display_name": "Python 3",
   "language": "python",
   "name": "python3"
  },
  "language_info": {
   "codemirror_mode": {
    "name": "ipython",
    "version": 3
   },
   "file_extension": ".py",
   "mimetype": "text/x-python",
   "name": "python",
   "nbconvert_exporter": "python",
   "pygments_lexer": "ipython3",
   "version": "3.8.5"
  }
 },
 "nbformat": 4,
 "nbformat_minor": 4
}
