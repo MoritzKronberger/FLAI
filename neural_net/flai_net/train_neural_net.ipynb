{
 "cells": [
  {
   "cell_type": "markdown",
   "metadata": {},
   "source": [
    "# FLAI_Net Training"
   ]
  },
  {
   "cell_type": "code",
   "execution_count": 99,
   "metadata": {},
   "outputs": [],
   "source": [
    "import numpy as np\n",
    "import pandas as pd\n",
    "import matplotlib.pyplot as plt"
   ]
  },
  {
   "cell_type": "markdown",
   "metadata": {},
   "source": [
    "## Import Dataset"
   ]
  },
  {
   "cell_type": "code",
   "execution_count": 100,
   "metadata": {},
   "outputs": [
    {
     "data": {
      "text/html": [
       "<div>\n",
       "<style scoped>\n",
       "    .dataframe tbody tr th:only-of-type {\n",
       "        vertical-align: middle;\n",
       "    }\n",
       "\n",
       "    .dataframe tbody tr th {\n",
       "        vertical-align: top;\n",
       "    }\n",
       "\n",
       "    .dataframe thead th {\n",
       "        text-align: right;\n",
       "    }\n",
       "</style>\n",
       "<table border=\"1\" class=\"dataframe\">\n",
       "  <thead>\n",
       "    <tr style=\"text-align: right;\">\n",
       "      <th></th>\n",
       "      <th>user</th>\n",
       "      <th>label</th>\n",
       "      <th>coordinate 0</th>\n",
       "      <th>coordinate 1</th>\n",
       "      <th>coordinate 2</th>\n",
       "      <th>coordinate 3</th>\n",
       "      <th>coordinate 4</th>\n",
       "      <th>coordinate 5</th>\n",
       "      <th>coordinate 6</th>\n",
       "      <th>coordinate 7</th>\n",
       "      <th>...</th>\n",
       "      <th>coordinate 53</th>\n",
       "      <th>coordinate 54</th>\n",
       "      <th>coordinate 55</th>\n",
       "      <th>coordinate 56</th>\n",
       "      <th>coordinate 57</th>\n",
       "      <th>coordinate 58</th>\n",
       "      <th>coordinate 59</th>\n",
       "      <th>coordinate 60</th>\n",
       "      <th>coordinate 61</th>\n",
       "      <th>coordinate 62</th>\n",
       "    </tr>\n",
       "  </thead>\n",
       "  <tbody>\n",
       "    <tr>\n",
       "      <th>0</th>\n",
       "      <td>moritz</td>\n",
       "      <td>a</td>\n",
       "      <td>0.730594</td>\n",
       "      <td>0.860723</td>\n",
       "      <td>-5.102247e-07</td>\n",
       "      <td>0.682833</td>\n",
       "      <td>0.852305</td>\n",
       "      <td>-0.014321</td>\n",
       "      <td>0.636179</td>\n",
       "      <td>0.788223</td>\n",
       "      <td>...</td>\n",
       "      <td>-0.003805</td>\n",
       "      <td>0.719923</td>\n",
       "      <td>0.701999</td>\n",
       "      <td>-0.016774</td>\n",
       "      <td>0.725298</td>\n",
       "      <td>0.744726</td>\n",
       "      <td>-0.007237</td>\n",
       "      <td>0.732716</td>\n",
       "      <td>0.759353</td>\n",
       "      <td>0.004919</td>\n",
       "    </tr>\n",
       "    <tr>\n",
       "      <th>1</th>\n",
       "      <td>moritz</td>\n",
       "      <td>a</td>\n",
       "      <td>0.187554</td>\n",
       "      <td>0.535341</td>\n",
       "      <td>-2.668257e-07</td>\n",
       "      <td>0.242819</td>\n",
       "      <td>0.499495</td>\n",
       "      <td>-0.002632</td>\n",
       "      <td>0.273707</td>\n",
       "      <td>0.443547</td>\n",
       "      <td>...</td>\n",
       "      <td>-0.010994</td>\n",
       "      <td>0.198061</td>\n",
       "      <td>0.362108</td>\n",
       "      <td>-0.026596</td>\n",
       "      <td>0.195467</td>\n",
       "      <td>0.404975</td>\n",
       "      <td>-0.016653</td>\n",
       "      <td>0.176552</td>\n",
       "      <td>0.415920</td>\n",
       "      <td>-0.004297</td>\n",
       "    </tr>\n",
       "    <tr>\n",
       "      <th>2</th>\n",
       "      <td>moritz</td>\n",
       "      <td>a</td>\n",
       "      <td>0.666586</td>\n",
       "      <td>0.657807</td>\n",
       "      <td>-4.705735e-07</td>\n",
       "      <td>0.618763</td>\n",
       "      <td>0.651822</td>\n",
       "      <td>-0.007609</td>\n",
       "      <td>0.575237</td>\n",
       "      <td>0.608581</td>\n",
       "      <td>...</td>\n",
       "      <td>-0.005200</td>\n",
       "      <td>0.638915</td>\n",
       "      <td>0.515660</td>\n",
       "      <td>-0.016983</td>\n",
       "      <td>0.647663</td>\n",
       "      <td>0.551319</td>\n",
       "      <td>-0.008379</td>\n",
       "      <td>0.658793</td>\n",
       "      <td>0.567222</td>\n",
       "      <td>0.002992</td>\n",
       "    </tr>\n",
       "    <tr>\n",
       "      <th>3</th>\n",
       "      <td>moritz</td>\n",
       "      <td>a</td>\n",
       "      <td>0.713794</td>\n",
       "      <td>0.856977</td>\n",
       "      <td>-6.065681e-07</td>\n",
       "      <td>0.644475</td>\n",
       "      <td>0.811637</td>\n",
       "      <td>-0.008653</td>\n",
       "      <td>0.590968</td>\n",
       "      <td>0.736326</td>\n",
       "      <td>...</td>\n",
       "      <td>-0.014236</td>\n",
       "      <td>0.703191</td>\n",
       "      <td>0.665308</td>\n",
       "      <td>-0.023940</td>\n",
       "      <td>0.698023</td>\n",
       "      <td>0.715283</td>\n",
       "      <td>-0.009360</td>\n",
       "      <td>0.714381</td>\n",
       "      <td>0.712156</td>\n",
       "      <td>0.005355</td>\n",
       "    </tr>\n",
       "    <tr>\n",
       "      <th>4</th>\n",
       "      <td>moritz</td>\n",
       "      <td>a</td>\n",
       "      <td>0.166528</td>\n",
       "      <td>0.535905</td>\n",
       "      <td>-5.687163e-07</td>\n",
       "      <td>0.244926</td>\n",
       "      <td>0.497069</td>\n",
       "      <td>-0.015626</td>\n",
       "      <td>0.308724</td>\n",
       "      <td>0.410463</td>\n",
       "      <td>...</td>\n",
       "      <td>-0.019524</td>\n",
       "      <td>0.164916</td>\n",
       "      <td>0.217429</td>\n",
       "      <td>-0.039383</td>\n",
       "      <td>0.180971</td>\n",
       "      <td>0.273977</td>\n",
       "      <td>-0.030317</td>\n",
       "      <td>0.181067</td>\n",
       "      <td>0.319932</td>\n",
       "      <td>-0.017262</td>\n",
       "    </tr>\n",
       "  </tbody>\n",
       "</table>\n",
       "<p>5 rows × 65 columns</p>\n",
       "</div>"
      ],
      "text/plain": [
       "     user label  coordinate 0  coordinate 1  coordinate 2  coordinate 3  \\\n",
       "0  moritz     a      0.730594      0.860723 -5.102247e-07      0.682833   \n",
       "1  moritz     a      0.187554      0.535341 -2.668257e-07      0.242819   \n",
       "2  moritz     a      0.666586      0.657807 -4.705735e-07      0.618763   \n",
       "3  moritz     a      0.713794      0.856977 -6.065681e-07      0.644475   \n",
       "4  moritz     a      0.166528      0.535905 -5.687163e-07      0.244926   \n",
       "\n",
       "   coordinate 4  coordinate 5  coordinate 6  coordinate 7  ...  coordinate 53  \\\n",
       "0      0.852305     -0.014321      0.636179      0.788223  ...      -0.003805   \n",
       "1      0.499495     -0.002632      0.273707      0.443547  ...      -0.010994   \n",
       "2      0.651822     -0.007609      0.575237      0.608581  ...      -0.005200   \n",
       "3      0.811637     -0.008653      0.590968      0.736326  ...      -0.014236   \n",
       "4      0.497069     -0.015626      0.308724      0.410463  ...      -0.019524   \n",
       "\n",
       "   coordinate 54  coordinate 55  coordinate 56  coordinate 57  coordinate 58  \\\n",
       "0       0.719923       0.701999      -0.016774       0.725298       0.744726   \n",
       "1       0.198061       0.362108      -0.026596       0.195467       0.404975   \n",
       "2       0.638915       0.515660      -0.016983       0.647663       0.551319   \n",
       "3       0.703191       0.665308      -0.023940       0.698023       0.715283   \n",
       "4       0.164916       0.217429      -0.039383       0.180971       0.273977   \n",
       "\n",
       "   coordinate 59  coordinate 60  coordinate 61  coordinate 62  \n",
       "0      -0.007237       0.732716       0.759353       0.004919  \n",
       "1      -0.016653       0.176552       0.415920      -0.004297  \n",
       "2      -0.008379       0.658793       0.567222       0.002992  \n",
       "3      -0.009360       0.714381       0.712156       0.005355  \n",
       "4      -0.030317       0.181067       0.319932      -0.017262  \n",
       "\n",
       "[5 rows x 65 columns]"
      ]
     },
     "execution_count": 100,
     "metadata": {},
     "output_type": "execute_result"
    }
   ],
   "source": [
    "ds = pd.read_csv('../dataset/flai_data.csv')\n",
    "ds.head()"
   ]
  },
  {
   "cell_type": "markdown",
   "metadata": {},
   "source": [
    "### Dataset Statistics"
   ]
  },
  {
   "cell_type": "code",
   "execution_count": 101,
   "metadata": {},
   "outputs": [
    {
     "name": "stdout",
     "output_type": "stream",
     "text": [
      "Samples: 486\n",
      "Unique contributors: 1\n",
      "Classes: ['a' 'b' 'c' 'd' 'e' 'f' 'g' 'h' 'i' 'k' 'l' 'm' 'n' 'o' 'p' 'q' 'r' 's'\n",
      " 't' 'u' 'v' 'w' 'x' 'y']\n"
     ]
    }
   ],
   "source": [
    "num_samples = len(ds)\n",
    "num_contributors = len(pd.unique(ds.user))\n",
    "classes = pd.unique(ds.label)\n",
    "print(f'Samples: {num_samples}')\n",
    "print(f'Unique contributors: {num_contributors}')\n",
    "print(f'Classes: {classes}')"
   ]
  },
  {
   "cell_type": "code",
   "execution_count": 102,
   "metadata": {},
   "outputs": [
    {
     "data": {
      "image/png": "[encoded data removed]",
      "text/plain": [
       "<Figure size 432x288 with 1 Axes>"
      ]
     },
     "metadata": {
      "needs_background": "light"
     },
     "output_type": "display_data"
    }
   ],
   "source": [
    "samples_per_label = ds.label.value_counts().sort_index()\n",
    "color = (112/255, 219/255, 189/255)\n",
    "x_pos = [i for i in range(len(samples_per_label.index))]\n",
    "plt.bar(x_pos, samples_per_label, color=color)\n",
    "plt.xticks(x_pos, samples_per_label.index)\n",
    "plt.ylabel('Samples per Class')\n",
    "plt.title('Sample Count per Class')\n",
    "plt.show()"
   ]
  },
  {
   "cell_type": "markdown",
   "metadata": {},
   "source": [
    "### Shuffle and Split Dataset"
   ]
  },
  {
   "cell_type": "code",
   "execution_count": 103,
   "metadata": {},
   "outputs": [
    {
     "data": {
      "text/html": [
       "<div>\n",
       "<style scoped>\n",
       "    .dataframe tbody tr th:only-of-type {\n",
       "        vertical-align: middle;\n",
       "    }\n",
       "\n",
       "    .dataframe tbody tr th {\n",
       "        vertical-align: top;\n",
       "    }\n",
       "\n",
       "    .dataframe thead th {\n",
       "        text-align: right;\n",
       "    }\n",
       "</style>\n",
       "<table border=\"1\" class=\"dataframe\">\n",
       "  <thead>\n",
       "    <tr style=\"text-align: right;\">\n",
       "      <th></th>\n",
       "      <th>user</th>\n",
       "      <th>label</th>\n",
       "      <th>coordinate 0</th>\n",
       "      <th>coordinate 1</th>\n",
       "      <th>coordinate 2</th>\n",
       "      <th>coordinate 3</th>\n",
       "      <th>coordinate 4</th>\n",
       "      <th>coordinate 5</th>\n",
       "      <th>coordinate 6</th>\n",
       "      <th>coordinate 7</th>\n",
       "      <th>...</th>\n",
       "      <th>coordinate 53</th>\n",
       "      <th>coordinate 54</th>\n",
       "      <th>coordinate 55</th>\n",
       "      <th>coordinate 56</th>\n",
       "      <th>coordinate 57</th>\n",
       "      <th>coordinate 58</th>\n",
       "      <th>coordinate 59</th>\n",
       "      <th>coordinate 60</th>\n",
       "      <th>coordinate 61</th>\n",
       "      <th>coordinate 62</th>\n",
       "    </tr>\n",
       "  </thead>\n",
       "  <tbody>\n",
       "    <tr>\n",
       "      <th>0</th>\n",
       "      <td>moritz</td>\n",
       "      <td>a</td>\n",
       "      <td>0.730594</td>\n",
       "      <td>0.860723</td>\n",
       "      <td>-5.102247e-07</td>\n",
       "      <td>0.682833</td>\n",
       "      <td>0.852305</td>\n",
       "      <td>-0.014321</td>\n",
       "      <td>0.636179</td>\n",
       "      <td>0.788223</td>\n",
       "      <td>...</td>\n",
       "      <td>-0.003805</td>\n",
       "      <td>0.719923</td>\n",
       "      <td>0.701999</td>\n",
       "      <td>-0.016774</td>\n",
       "      <td>0.725298</td>\n",
       "      <td>0.744726</td>\n",
       "      <td>-0.007237</td>\n",
       "      <td>0.732716</td>\n",
       "      <td>0.759353</td>\n",
       "      <td>0.004919</td>\n",
       "    </tr>\n",
       "    <tr>\n",
       "      <th>21</th>\n",
       "      <td>moritz</td>\n",
       "      <td>a</td>\n",
       "      <td>0.757182</td>\n",
       "      <td>0.595954</td>\n",
       "      <td>-6.954833e-07</td>\n",
       "      <td>0.684799</td>\n",
       "      <td>0.574310</td>\n",
       "      <td>-0.013963</td>\n",
       "      <td>0.627625</td>\n",
       "      <td>0.496845</td>\n",
       "      <td>...</td>\n",
       "      <td>-0.002976</td>\n",
       "      <td>0.736522</td>\n",
       "      <td>0.372610</td>\n",
       "      <td>-0.022184</td>\n",
       "      <td>0.744411</td>\n",
       "      <td>0.430808</td>\n",
       "      <td>-0.009428</td>\n",
       "      <td>0.757286</td>\n",
       "      <td>0.458885</td>\n",
       "      <td>0.008159</td>\n",
       "    </tr>\n",
       "    <tr>\n",
       "      <th>20</th>\n",
       "      <td>moritz</td>\n",
       "      <td>a</td>\n",
       "      <td>0.766666</td>\n",
       "      <td>0.547899</td>\n",
       "      <td>-6.569658e-07</td>\n",
       "      <td>0.706994</td>\n",
       "      <td>0.541128</td>\n",
       "      <td>-0.007830</td>\n",
       "      <td>0.657069</td>\n",
       "      <td>0.477074</td>\n",
       "      <td>...</td>\n",
       "      <td>-0.007374</td>\n",
       "      <td>0.764765</td>\n",
       "      <td>0.389787</td>\n",
       "      <td>-0.019653</td>\n",
       "      <td>0.762536</td>\n",
       "      <td>0.440374</td>\n",
       "      <td>-0.008040</td>\n",
       "      <td>0.773210</td>\n",
       "      <td>0.452167</td>\n",
       "      <td>0.005038</td>\n",
       "    </tr>\n",
       "    <tr>\n",
       "      <th>19</th>\n",
       "      <td>moritz</td>\n",
       "      <td>a</td>\n",
       "      <td>0.806713</td>\n",
       "      <td>0.450147</td>\n",
       "      <td>-7.716191e-07</td>\n",
       "      <td>0.743366</td>\n",
       "      <td>0.417360</td>\n",
       "      <td>-0.012785</td>\n",
       "      <td>0.704203</td>\n",
       "      <td>0.330999</td>\n",
       "      <td>...</td>\n",
       "      <td>-0.014698</td>\n",
       "      <td>0.848655</td>\n",
       "      <td>0.269186</td>\n",
       "      <td>-0.029429</td>\n",
       "      <td>0.835300</td>\n",
       "      <td>0.325597</td>\n",
       "      <td>-0.015605</td>\n",
       "      <td>0.838689</td>\n",
       "      <td>0.347822</td>\n",
       "      <td>-0.000445</td>\n",
       "    </tr>\n",
       "    <tr>\n",
       "      <th>18</th>\n",
       "      <td>moritz</td>\n",
       "      <td>a</td>\n",
       "      <td>0.266952</td>\n",
       "      <td>0.681939</td>\n",
       "      <td>-3.637211e-07</td>\n",
       "      <td>0.311002</td>\n",
       "      <td>0.707136</td>\n",
       "      <td>-0.017852</td>\n",
       "      <td>0.370698</td>\n",
       "      <td>0.672354</td>\n",
       "      <td>...</td>\n",
       "      <td>-0.000278</td>\n",
       "      <td>0.316917</td>\n",
       "      <td>0.547948</td>\n",
       "      <td>-0.015398</td>\n",
       "      <td>0.300252</td>\n",
       "      <td>0.584826</td>\n",
       "      <td>-0.008061</td>\n",
       "      <td>0.289545</td>\n",
       "      <td>0.593305</td>\n",
       "      <td>0.002334</td>\n",
       "    </tr>\n",
       "  </tbody>\n",
       "</table>\n",
       "<p>5 rows × 65 columns</p>\n",
       "</div>"
      ],
      "text/plain": [
       "      user label  coordinate 0  coordinate 1  coordinate 2  coordinate 3  \\\n",
       "0   moritz     a      0.730594      0.860723 -5.102247e-07      0.682833   \n",
       "21  moritz     a      0.757182      0.595954 -6.954833e-07      0.684799   \n",
       "20  moritz     a      0.766666      0.547899 -6.569658e-07      0.706994   \n",
       "19  moritz     a      0.806713      0.450147 -7.716191e-07      0.743366   \n",
       "18  moritz     a      0.266952      0.681939 -3.637211e-07      0.311002   \n",
       "\n",
       "    coordinate 4  coordinate 5  coordinate 6  coordinate 7  ...  \\\n",
       "0       0.852305     -0.014321      0.636179      0.788223  ...   \n",
       "21      0.574310     -0.013963      0.627625      0.496845  ...   \n",
       "20      0.541128     -0.007830      0.657069      0.477074  ...   \n",
       "19      0.417360     -0.012785      0.704203      0.330999  ...   \n",
       "18      0.707136     -0.017852      0.370698      0.672354  ...   \n",
       "\n",
       "    coordinate 53  coordinate 54  coordinate 55  coordinate 56  coordinate 57  \\\n",
       "0       -0.003805       0.719923       0.701999      -0.016774       0.725298   \n",
       "21      -0.002976       0.736522       0.372610      -0.022184       0.744411   \n",
       "20      -0.007374       0.764765       0.389787      -0.019653       0.762536   \n",
       "19      -0.014698       0.848655       0.269186      -0.029429       0.835300   \n",
       "18      -0.000278       0.316917       0.547948      -0.015398       0.300252   \n",
       "\n",
       "    coordinate 58  coordinate 59  coordinate 60  coordinate 61  coordinate 62  \n",
       "0        0.744726      -0.007237       0.732716       0.759353       0.004919  \n",
       "21       0.430808      -0.009428       0.757286       0.458885       0.008159  \n",
       "20       0.440374      -0.008040       0.773210       0.452167       0.005038  \n",
       "19       0.325597      -0.015605       0.838689       0.347822      -0.000445  \n",
       "18       0.584826      -0.008061       0.289545       0.593305       0.002334  \n",
       "\n",
       "[5 rows x 65 columns]"
      ]
     },
     "execution_count": 103,
     "metadata": {},
     "output_type": "execute_result"
    }
   ],
   "source": [
    "ds = ds.sort_values('label')\n",
    "ds.head()"
   ]
  },
  {
   "cell_type": "code",
   "execution_count": 104,
   "metadata": {},
   "outputs": [],
   "source": [
    "ds_y = ds.label.array\n",
    "ds_y = pd.factorize(ds_y)[0]\n",
    "ds_y = np.array(ds_y)\n",
    "\n",
    "ds_x = ds.drop(['label', 'user'], axis=1)\n",
    "ds_x = ds_x.to_numpy()"
   ]
  },
  {
   "cell_type": "code",
   "execution_count": 105,
   "metadata": {},
   "outputs": [
    {
     "name": "stdout",
     "output_type": "stream",
     "text": [
      "(486,)\n",
      "(486, 63)\n"
     ]
    }
   ],
   "source": [
    "print(ds_y.shape)\n",
    "print(ds_x.shape)"
   ]
  },
  {
   "cell_type": "code",
   "execution_count": 106,
   "metadata": {},
   "outputs": [],
   "source": [
    "from sklearn.model_selection import train_test_split\n",
    "x_train, x_test, y_train, y_test = train_test_split(ds_x, ds_y, test_size=0.2, random_state=42)"
   ]
  },
  {
   "cell_type": "code",
   "execution_count": 107,
   "metadata": {},
   "outputs": [
    {
     "name": "stdout",
     "output_type": "stream",
     "text": [
      "(388, 63)\n",
      "(388,)\n",
      "(98, 63)\n",
      "(98,)\n"
     ]
    }
   ],
   "source": [
    "print(x_train.shape)\n",
    "print(y_train.shape)\n",
    "print(x_test.shape)\n",
    "print(y_test.shape)"
   ]
  },
  {
   "cell_type": "markdown",
   "metadata": {},
   "source": [
    "### Plot Vectors"
   ]
  },
  {
   "cell_type": "code",
   "execution_count": 108,
   "metadata": {},
   "outputs": [
    {
     "data": {
      "text/plain": [
       "(98, 21, 3)"
      ]
     },
     "execution_count": 108,
     "metadata": {},
     "output_type": "execute_result"
    }
   ],
   "source": [
    "data = [x_test, y_test]\n",
    "data[0] = data[0].reshape(data[0].shape[0], 21, 3)\n",
    "data[0].shape"
   ]
  },
  {
   "cell_type": "code",
   "execution_count": 126,
   "metadata": {},
   "outputs": [
    {
     "data": {
      "image/png": "[encoded data removed]",
      "text/plain": [
       "<Figure size 432x288 with 1 Axes>"
      ]
     },
     "metadata": {
      "needs_background": "light"
     },
     "output_type": "display_data"
    }
   ],
   "source": [
    "num = 12\n",
    "example = data[0][num]\n",
    "label = data[1][num]\n",
    "\n",
    "fig = plt.figure()\n",
    "ax = fig.add_subplot(projection='3d')\n",
    "\n",
    "for vec in example:\n",
    "    ax.scatter(vec[0], vec[2], vec[1], c=[color])\n",
    "\n",
    "plt.title(f'Label: {label}')\n",
    "ax.set_xlabel('X')\n",
    "ax.set_ylabel('Z')\n",
    "ax.set_zlabel('Y')\n",
    "\n",
    "plt.show()"
   ]
  },
  {
   "cell_type": "markdown",
   "metadata": {},
   "source": [
    "## Train Neural Network"
   ]
  },
  {
   "cell_type": "markdown",
   "metadata": {},
   "source": [
    "### Set Hyperparameters"
   ]
  },
  {
   "cell_type": "code",
   "execution_count": 110,
   "metadata": {},
   "outputs": [],
   "source": [
    "epochs = 10\n",
    "val_split = .2"
   ]
  },
  {
   "cell_type": "markdown",
   "metadata": {},
   "source": [
    "### Labels to One Hot"
   ]
  },
  {
   "cell_type": "code",
   "execution_count": 112,
   "metadata": {},
   "outputs": [
    {
     "name": "stdout",
     "output_type": "stream",
     "text": [
      "(388, 24, 2)\n",
      "(98, 24, 2)\n"
     ]
    }
   ],
   "source": [
    "from tensorflow.keras.utils import to_categorical\n",
    "\n",
    "y_train = to_categorical(y_train.astype(int))\n",
    "y_test = to_categorical(y_test.astype(int))\n",
    "\n",
    "print(y_train.shape)\n",
    "print(y_test.shape)"
   ]
  },
  {
   "cell_type": "markdown",
   "metadata": {},
   "source": [
    "### Create Callbacks"
   ]
  },
  {
   "cell_type": "code",
   "execution_count": 113,
   "metadata": {},
   "outputs": [],
   "source": [
    "from tensorflow.keras.callbacks import EarlyStopping\n",
    "\n",
    "early_stop = EarlyStopping(monitor='val_acc',\n",
    "                           restore_best_weights=True,\n",
    "                           patience=3,\n",
    "                           verbose=1)"
   ]
  },
  {
   "cell_type": "markdown",
   "metadata": {},
   "source": [
    "### Create Model"
   ]
  },
  {
   "cell_type": "code",
   "execution_count": 115,
   "metadata": {},
   "outputs": [],
   "source": [
    "from tensorflow.keras.models import Sequential\n",
    "from tensorflow.keras.layers import Dense, Dropout, AlphaDropout\n",
    "\n",
    "model = Sequential(name=\"Model_1\")\n",
    "\n",
    "# ...\n",
    "\n",
    "# model.summary()"
   ]
  },
  {
   "cell_type": "markdown",
   "metadata": {},
   "source": [
    "### Train Model"
   ]
  },
  {
   "cell_type": "code",
   "execution_count": null,
   "metadata": {},
   "outputs": [],
   "source": [
    "model.compile(loss='categorical_crossentropy',\n",
    "              optimizer='adam',\n",
    "              metrics=['acc'])\n",
    "\n",
    "history = model.fit(x_train, y_train,\n",
    "                      epochs=epochs,\n",
    "                      batch_size=64,\n",
    "                      validation_split=val_split,\n",
    "                      callbacks=[early_stop])"
   ]
  },
  {
   "cell_type": "code",
   "execution_count": null,
   "metadata": {},
   "outputs": [],
   "source": [
    "plt.figure(figsize=(12, 8))\n",
    "\n",
    "plt.subplot(2, 2, 1)\n",
    "plt.plot(history.history['loss'], label='train loss')\n",
    "plt.plot(history.history['val_loss'], label='val loss')\n",
    "plt.legend()\n",
    "\n",
    "plt.subplot(2, 2, 2)\n",
    "plt.plot(history.history['acc'], label='train acc')\n",
    "plt.plot(history.history['val_acc'], label='val acc')\n",
    "plt.legend()"
   ]
  },
  {
   "cell_type": "markdown",
   "metadata": {},
   "source": [
    "### Save Model"
   ]
  },
  {
   "cell_type": "code",
   "execution_count": null,
   "metadata": {},
   "outputs": [],
   "source": [
    "model.save(f'{model.name}.h5')"
   ]
  },
  {
   "cell_type": "markdown",
   "metadata": {},
   "source": [
    "## Store Variables"
   ]
  },
  {
   "cell_type": "code",
   "execution_count": 128,
   "metadata": {},
   "outputs": [
    {
     "name": "stdout",
     "output_type": "stream",
     "text": [
      "Stored 'x_test' (ndarray)\n",
      "Stored 'y_test' (ndarray)\n"
     ]
    },
    {
     "name": "stderr",
     "output_type": "stream",
     "text": [
      "UsageError: Unknown variable 'model.name'\n"
     ]
    }
   ],
   "source": [
    "%store x_test\n",
    "%store y_test\n",
    "%store model.name"
   ]
  }
 ],
 "metadata": {
  "kernelspec": {
   "display_name": "Python 3",
   "language": "python",
   "name": "python3"
  },
  "language_info": {
   "codemirror_mode": {
    "name": "ipython",
    "version": 3
   },
   "file_extension": ".py",
   "mimetype": "text/x-python",
   "name": "python",
   "nbconvert_exporter": "python",
   "pygments_lexer": "ipython3",
   "version": "3.8.5"
  }
 },
 "nbformat": 4,
 "nbformat_minor": 4
}
