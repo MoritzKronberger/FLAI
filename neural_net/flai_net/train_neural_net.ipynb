{
 "cells": [
  {
   "cell_type": "markdown",
   "metadata": {},
   "source": [
    "# FLAI_Net Training"
   ]
  },
  {
   "cell_type": "code",
   "execution_count": 130,
   "metadata": {},
   "outputs": [],
   "source": [
    "import numpy as np\n",
    "import pandas as pd\n",
    "import matplotlib.pyplot as plt"
   ]
  },
  {
   "cell_type": "markdown",
   "metadata": {},
   "source": [
    "## Import Dataset"
   ]
  },
  {
   "cell_type": "code",
   "execution_count": 131,
   "metadata": {},
   "outputs": [
    {
     "data": {
      "text/html": [
       "<div>\n",
       "<style scoped>\n",
       "    .dataframe tbody tr th:only-of-type {\n",
       "        vertical-align: middle;\n",
       "    }\n",
       "\n",
       "    .dataframe tbody tr th {\n",
       "        vertical-align: top;\n",
       "    }\n",
       "\n",
       "    .dataframe thead th {\n",
       "        text-align: right;\n",
       "    }\n",
       "</style>\n",
       "<table border=\"1\" class=\"dataframe\">\n",
       "  <thead>\n",
       "    <tr style=\"text-align: right;\">\n",
       "      <th></th>\n",
       "      <th>user</th>\n",
       "      <th>label</th>\n",
       "      <th>coordinate 0</th>\n",
       "      <th>coordinate 1</th>\n",
       "      <th>coordinate 2</th>\n",
       "      <th>coordinate 3</th>\n",
       "      <th>coordinate 4</th>\n",
       "      <th>coordinate 5</th>\n",
       "      <th>coordinate 6</th>\n",
       "      <th>coordinate 7</th>\n",
       "      <th>...</th>\n",
       "      <th>coordinate 53</th>\n",
       "      <th>coordinate 54</th>\n",
       "      <th>coordinate 55</th>\n",
       "      <th>coordinate 56</th>\n",
       "      <th>coordinate 57</th>\n",
       "      <th>coordinate 58</th>\n",
       "      <th>coordinate 59</th>\n",
       "      <th>coordinate 60</th>\n",
       "      <th>coordinate 61</th>\n",
       "      <th>coordinate 62</th>\n",
       "    </tr>\n",
       "  </thead>\n",
       "  <tbody>\n",
       "    <tr>\n",
       "      <th>0</th>\n",
       "      <td>lea</td>\n",
       "      <td>a</td>\n",
       "      <td>0.699433</td>\n",
       "      <td>0.694308</td>\n",
       "      <td>-5.125001e-07</td>\n",
       "      <td>0.648201</td>\n",
       "      <td>0.623592</td>\n",
       "      <td>-0.013627</td>\n",
       "      <td>0.620721</td>\n",
       "      <td>0.537524</td>\n",
       "      <td>...</td>\n",
       "      <td>-0.021148</td>\n",
       "      <td>0.727923</td>\n",
       "      <td>0.482140</td>\n",
       "      <td>-0.033280</td>\n",
       "      <td>0.721847</td>\n",
       "      <td>0.531752</td>\n",
       "      <td>-0.020166</td>\n",
       "      <td>0.734710</td>\n",
       "      <td>0.541902</td>\n",
       "      <td>-0.006052</td>\n",
       "    </tr>\n",
       "    <tr>\n",
       "      <th>4213</th>\n",
       "      <td>Anja</td>\n",
       "      <td>a</td>\n",
       "      <td>0.783164</td>\n",
       "      <td>0.464943</td>\n",
       "      <td>-5.455665e-07</td>\n",
       "      <td>0.733808</td>\n",
       "      <td>0.431511</td>\n",
       "      <td>-0.019197</td>\n",
       "      <td>0.704531</td>\n",
       "      <td>0.340193</td>\n",
       "      <td>...</td>\n",
       "      <td>-0.008321</td>\n",
       "      <td>0.838835</td>\n",
       "      <td>0.222084</td>\n",
       "      <td>-0.023938</td>\n",
       "      <td>0.823087</td>\n",
       "      <td>0.259231</td>\n",
       "      <td>-0.016016</td>\n",
       "      <td>0.816125</td>\n",
       "      <td>0.291306</td>\n",
       "      <td>-0.004580</td>\n",
       "    </tr>\n",
       "    <tr>\n",
       "      <th>4212</th>\n",
       "      <td>Anja</td>\n",
       "      <td>a</td>\n",
       "      <td>0.700200</td>\n",
       "      <td>0.574718</td>\n",
       "      <td>-7.226926e-07</td>\n",
       "      <td>0.638045</td>\n",
       "      <td>0.514915</td>\n",
       "      <td>-0.025762</td>\n",
       "      <td>0.607924</td>\n",
       "      <td>0.389235</td>\n",
       "      <td>...</td>\n",
       "      <td>-0.009569</td>\n",
       "      <td>0.781731</td>\n",
       "      <td>0.262508</td>\n",
       "      <td>-0.027723</td>\n",
       "      <td>0.759230</td>\n",
       "      <td>0.302853</td>\n",
       "      <td>-0.019329</td>\n",
       "      <td>0.745885</td>\n",
       "      <td>0.341302</td>\n",
       "      <td>-0.006644</td>\n",
       "    </tr>\n",
       "    <tr>\n",
       "      <th>4211</th>\n",
       "      <td>Anja</td>\n",
       "      <td>a</td>\n",
       "      <td>0.664200</td>\n",
       "      <td>0.428078</td>\n",
       "      <td>-5.299640e-07</td>\n",
       "      <td>0.618430</td>\n",
       "      <td>0.382897</td>\n",
       "      <td>-0.028544</td>\n",
       "      <td>0.604768</td>\n",
       "      <td>0.283992</td>\n",
       "      <td>...</td>\n",
       "      <td>-0.018270</td>\n",
       "      <td>0.752735</td>\n",
       "      <td>0.191741</td>\n",
       "      <td>-0.033697</td>\n",
       "      <td>0.736050</td>\n",
       "      <td>0.223431</td>\n",
       "      <td>-0.026450</td>\n",
       "      <td>0.725282</td>\n",
       "      <td>0.251077</td>\n",
       "      <td>-0.016669</td>\n",
       "    </tr>\n",
       "    <tr>\n",
       "      <th>4210</th>\n",
       "      <td>Anja</td>\n",
       "      <td>a</td>\n",
       "      <td>0.783185</td>\n",
       "      <td>0.466400</td>\n",
       "      <td>-5.640823e-07</td>\n",
       "      <td>0.734548</td>\n",
       "      <td>0.430934</td>\n",
       "      <td>-0.018781</td>\n",
       "      <td>0.705763</td>\n",
       "      <td>0.336010</td>\n",
       "      <td>...</td>\n",
       "      <td>-0.008646</td>\n",
       "      <td>0.837997</td>\n",
       "      <td>0.221828</td>\n",
       "      <td>-0.023902</td>\n",
       "      <td>0.822437</td>\n",
       "      <td>0.259865</td>\n",
       "      <td>-0.015338</td>\n",
       "      <td>0.816671</td>\n",
       "      <td>0.290299</td>\n",
       "      <td>-0.003778</td>\n",
       "    </tr>\n",
       "  </tbody>\n",
       "</table>\n",
       "<p>5 rows × 65 columns</p>\n",
       "</div>"
      ],
      "text/plain": [
       "      user label  coordinate 0  coordinate 1  coordinate 2  coordinate 3  \\\n",
       "0      lea     a      0.699433      0.694308 -5.125001e-07      0.648201   \n",
       "4213  Anja     a      0.783164      0.464943 -5.455665e-07      0.733808   \n",
       "4212  Anja     a      0.700200      0.574718 -7.226926e-07      0.638045   \n",
       "4211  Anja     a      0.664200      0.428078 -5.299640e-07      0.618430   \n",
       "4210  Anja     a      0.783185      0.466400 -5.640823e-07      0.734548   \n",
       "\n",
       "      coordinate 4  coordinate 5  coordinate 6  coordinate 7  ...  \\\n",
       "0         0.623592     -0.013627      0.620721      0.537524  ...   \n",
       "4213      0.431511     -0.019197      0.704531      0.340193  ...   \n",
       "4212      0.514915     -0.025762      0.607924      0.389235  ...   \n",
       "4211      0.382897     -0.028544      0.604768      0.283992  ...   \n",
       "4210      0.430934     -0.018781      0.705763      0.336010  ...   \n",
       "\n",
       "      coordinate 53  coordinate 54  coordinate 55  coordinate 56  \\\n",
       "0         -0.021148       0.727923       0.482140      -0.033280   \n",
       "4213      -0.008321       0.838835       0.222084      -0.023938   \n",
       "4212      -0.009569       0.781731       0.262508      -0.027723   \n",
       "4211      -0.018270       0.752735       0.191741      -0.033697   \n",
       "4210      -0.008646       0.837997       0.221828      -0.023902   \n",
       "\n",
       "      coordinate 57  coordinate 58  coordinate 59  coordinate 60  \\\n",
       "0          0.721847       0.531752      -0.020166       0.734710   \n",
       "4213       0.823087       0.259231      -0.016016       0.816125   \n",
       "4212       0.759230       0.302853      -0.019329       0.745885   \n",
       "4211       0.736050       0.223431      -0.026450       0.725282   \n",
       "4210       0.822437       0.259865      -0.015338       0.816671   \n",
       "\n",
       "      coordinate 61  coordinate 62  \n",
       "0          0.541902      -0.006052  \n",
       "4213       0.291306      -0.004580  \n",
       "4212       0.341302      -0.006644  \n",
       "4211       0.251077      -0.016669  \n",
       "4210       0.290299      -0.003778  \n",
       "\n",
       "[5 rows x 65 columns]"
      ]
     },
     "execution_count": 131,
     "metadata": {},
     "output_type": "execute_result"
    }
   ],
   "source": [
    "ds = pd.read_csv('../dataset/flai_data.csv')\n",
    "ds = ds.sort_values('label')\n",
    "ds.head()"
   ]
  },
  {
   "cell_type": "markdown",
   "metadata": {},
   "source": [
    "### Dataset Statistics"
   ]
  },
  {
   "cell_type": "code",
   "execution_count": 132,
   "metadata": {},
   "outputs": [
    {
     "name": "stdout",
     "output_type": "stream",
     "text": [
      "Samples: 5308\n",
      "Unique contributors: 5\n",
      "Classes: ['a' 'b' 'c' 'd' 'e' 'f' 'g' 'h' 'i' 'k' 'l' 'm' 'n' 'o' 'p' 'q' 'r' 's'\n",
      " 't' 'u' 'v' 'w' 'x' 'y']\n"
     ]
    }
   ],
   "source": [
    "num_samples = len(ds)\n",
    "num_contributors = len(pd.unique(ds.user))\n",
    "classes = pd.unique(ds.label)\n",
    "print(f'Samples: {num_samples}')\n",
    "print(f'Unique contributors: {num_contributors}')\n",
    "print(f'Classes: {classes}')"
   ]
  },
  {
   "cell_type": "code",
   "execution_count": 133,
   "metadata": {},
   "outputs": [
    {
     "data": {
      "image/png": "[encoded data removed]",
      "text/plain": [
       "<Figure size 432x288 with 1 Axes>"
      ]
     },
     "metadata": {
      "needs_background": "light"
     },
     "output_type": "display_data"
    }
   ],
   "source": [
    "samples_per_label = ds.label.value_counts().sort_index()\n",
    "color = (112/255, 219/255, 189/255)\n",
    "x_pos = [i for i in range(len(samples_per_label.index))]\n",
    "plt.bar(x_pos, samples_per_label, color=color)\n",
    "plt.xticks(x_pos, samples_per_label.index)\n",
    "plt.ylabel('Samples per Class')\n",
    "plt.title('Sample Count per Class')\n",
    "plt.show()"
   ]
  },
  {
   "cell_type": "markdown",
   "metadata": {},
   "source": [
    "### Shuffle and Split Dataset"
   ]
  },
  {
   "cell_type": "code",
   "execution_count": 134,
   "metadata": {},
   "outputs": [],
   "source": [
    "ds_y = ds.label.array\n",
    "ds_y = pd.factorize(ds_y)[0]\n",
    "ds_y = np.array(ds_y)\n",
    "\n",
    "ds_x = ds.drop(['label', 'user'], axis=1)\n",
    "ds_x = ds_x.to_numpy()"
   ]
  },
  {
   "cell_type": "code",
   "execution_count": 135,
   "metadata": {},
   "outputs": [
    {
     "name": "stdout",
     "output_type": "stream",
     "text": [
      "(5308,)\n",
      "(5308, 63)\n"
     ]
    }
   ],
   "source": [
    "print(ds_y.shape)\n",
    "print(ds_x.shape)"
   ]
  },
  {
   "cell_type": "code",
   "execution_count": 136,
   "metadata": {},
   "outputs": [],
   "source": [
    "from sklearn.model_selection import train_test_split\n",
    "x_train, x_test, y_train, y_test = train_test_split(ds_x, ds_y, test_size=0.2, random_state=42)"
   ]
  },
  {
   "cell_type": "code",
   "execution_count": 137,
   "metadata": {},
   "outputs": [
    {
     "name": "stdout",
     "output_type": "stream",
     "text": [
      "(4246, 63)\n",
      "(4246,)\n",
      "(1062, 63)\n",
      "(1062,)\n"
     ]
    }
   ],
   "source": [
    "print(x_train.shape)\n",
    "print(y_train.shape)\n",
    "print(x_test.shape)\n",
    "print(y_test.shape)"
   ]
  },
  {
   "cell_type": "markdown",
   "metadata": {},
   "source": [
    "### Plot Vectors"
   ]
  },
  {
   "cell_type": "code",
   "execution_count": 138,
   "metadata": {},
   "outputs": [
    {
     "data": {
      "text/plain": [
       "(1062, 21, 3)"
      ]
     },
     "execution_count": 138,
     "metadata": {},
     "output_type": "execute_result"
    }
   ],
   "source": [
    "data = [x_test, y_test]\n",
    "data[0] = data[0].reshape(data[0].shape[0], 21, 3)\n",
    "data[0].shape"
   ]
  },
  {
   "cell_type": "code",
   "execution_count": 139,
   "metadata": {},
   "outputs": [
    {
     "data": {
      "image/png": "[encoded data removed]",
      "text/plain": [
       "<Figure size 432x288 with 1 Axes>"
      ]
     },
     "metadata": {
      "needs_background": "light"
     },
     "output_type": "display_data"
    }
   ],
   "source": [
    "num = 10\n",
    "example = data[0][num]\n",
    "label = data[1][num]\n",
    "\n",
    "fig = plt.figure()\n",
    "ax = fig.add_subplot(projection='3d')\n",
    "\n",
    "for vec in example:\n",
    "    ax.scatter(vec[0], vec[2], vec[1], c=[color])\n",
    "\n",
    "plt.title(f'Label: {classes[label]}')\n",
    "ax.set_xlabel('X')\n",
    "ax.set_ylabel('Z')\n",
    "ax.set_zlabel('Y')\n",
    "\n",
    "plt.show()"
   ]
  },
  {
   "cell_type": "markdown",
   "metadata": {},
   "source": [
    "## Train Neural Network"
   ]
  },
  {
   "cell_type": "markdown",
   "metadata": {},
   "source": [
    "### Set Hyperparameters"
   ]
  },
  {
   "cell_type": "code",
   "execution_count": 140,
   "metadata": {},
   "outputs": [],
   "source": [
    "epochs = 10\n",
    "val_split = .2"
   ]
  },
  {
   "cell_type": "markdown",
   "metadata": {},
   "source": [
    "### Labels to One Hot"
   ]
  },
  {
   "cell_type": "code",
   "execution_count": 141,
   "metadata": {},
   "outputs": [
    {
     "name": "stdout",
     "output_type": "stream",
     "text": [
      "(4246, 24)\n",
      "(1062, 24)\n"
     ]
    }
   ],
   "source": [
    "from tensorflow.keras.utils import to_categorical\n",
    "\n",
    "y_train = to_categorical(y_train.astype(int))\n",
    "y_test = to_categorical(y_test.astype(int))\n",
    "\n",
    "print(y_train.shape)\n",
    "print(y_test.shape)"
   ]
  },
  {
   "cell_type": "markdown",
   "metadata": {},
   "source": [
    "### Create Callbacks"
   ]
  },
  {
   "cell_type": "code",
   "execution_count": 142,
   "metadata": {},
   "outputs": [],
   "source": [
    "from tensorflow.keras.callbacks import EarlyStopping, ReduceLROnPlateau\n",
    "\n",
    "early_stop = EarlyStopping(monitor='val_acc',\n",
    "                           restore_best_weights=True,\n",
    "                           patience=10,\n",
    "                           verbose=1)\n",
    "\n",
    "reduce_lr = ReduceLROnPlateau(monitor='val_acc',\n",
    "                              factor=0.2,\n",
    "                              min_lr=0.00001,\n",
    "                              patience=5,\n",
    "                              verbose=1)"
   ]
  },
  {
   "cell_type": "markdown",
   "metadata": {},
   "source": [
    "### Create Model"
   ]
  },
  {
   "cell_type": "code",
   "execution_count": 143,
   "metadata": {},
   "outputs": [
    {
     "name": "stdout",
     "output_type": "stream",
     "text": [
      "Model: \"Deep_FLAI_6\"\n",
      "_________________________________________________________________\n",
      "Layer (type)                 Output Shape              Param #   \n",
      "=================================================================\n",
      "dense_50 (Dense)             (None, 1024)              65536     \n",
      "_________________________________________________________________\n",
      "alpha_dropout_42 (AlphaDropo (None, 1024)              0         \n",
      "_________________________________________________________________\n",
      "dense_51 (Dense)             (None, 512)               524800    \n",
      "_________________________________________________________________\n",
      "alpha_dropout_43 (AlphaDropo (None, 512)               0         \n",
      "_________________________________________________________________\n",
      "dense_52 (Dense)             (None, 256)               131328    \n",
      "_________________________________________________________________\n",
      "alpha_dropout_44 (AlphaDropo (None, 256)               0         \n",
      "_________________________________________________________________\n",
      "dense_53 (Dense)             (None, 128)               32896     \n",
      "_________________________________________________________________\n",
      "alpha_dropout_45 (AlphaDropo (None, 128)               0         \n",
      "_________________________________________________________________\n",
      "dense_54 (Dense)             (None, 64)                8256      \n",
      "_________________________________________________________________\n",
      "alpha_dropout_46 (AlphaDropo (None, 64)                0         \n",
      "_________________________________________________________________\n",
      "dense_55 (Dense)             (None, 24)                1560      \n",
      "=================================================================\n",
      "Total params: 764,376\n",
      "Trainable params: 764,376\n",
      "Non-trainable params: 0\n",
      "_________________________________________________________________\n"
     ]
    }
   ],
   "source": [
    "from tensorflow.keras.models import Sequential\n",
    "from tensorflow.keras.layers import Dense, Dropout, AlphaDropout\n",
    "\n",
    "model = Sequential(name=\"Deep_FLAI_6\")\n",
    "\n",
    "model.add(Dense(1024, \n",
    "                kernel_initializer=\"lecun_normal\", \n",
    "                bias_initializer=\"zeros\", \n",
    "                activation='selu',\n",
    "                input_shape=x_train[0].shape))\n",
    "model.add(AlphaDropout(0.05))\n",
    "model.add(Dense(512, \n",
    "                kernel_initializer=\"lecun_normal\", \n",
    "                bias_initializer=\"zeros\", \n",
    "                activation='selu'))\n",
    "model.add(AlphaDropout(0.05))\n",
    "model.add(Dense(256, \n",
    "                kernel_initializer=\"lecun_normal\", \n",
    "                bias_initializer=\"zeros\", \n",
    "                activation='selu'))\n",
    "model.add(AlphaDropout(0.05))\n",
    "model.add(Dense(128, \n",
    "                kernel_initializer=\"lecun_normal\", \n",
    "                bias_initializer=\"zeros\", \n",
    "                activation='selu'))\n",
    "model.add(AlphaDropout(0.05))\n",
    "model.add(Dense(64, \n",
    "                kernel_initializer=\"lecun_normal\", \n",
    "                bias_initializer=\"zeros\", \n",
    "                activation='selu'))\n",
    "model.add(AlphaDropout(0.05))\n",
    "model.add(Dense(y_train[0].shape[0], activation='softmax'))\n",
    "\n",
    "model.summary()"
   ]
  },
  {
   "cell_type": "markdown",
   "metadata": {},
   "source": [
    "### Train Model"
   ]
  },
  {
   "cell_type": "code",
   "execution_count": 144,
   "metadata": {},
   "outputs": [
    {
     "name": "stdout",
     "output_type": "stream",
     "text": [
      "Epoch 1/100\n",
      "107/107 [==============================] - 2s 13ms/step - loss: 3.5270 - acc: 0.0718 - val_loss: 1.8902 - val_acc: 0.3341\n",
      "Epoch 2/100\n",
      "107/107 [==============================] - 1s 9ms/step - loss: 1.9942 - acc: 0.3159 - val_loss: 0.9751 - val_acc: 0.5906\n",
      "Epoch 3/100\n",
      "107/107 [==============================] - 1s 9ms/step - loss: 1.4309 - acc: 0.4424 - val_loss: 0.7657 - val_acc: 0.7106\n",
      "Epoch 4/100\n",
      "107/107 [==============================] - 1s 13ms/step - loss: 1.1975 - acc: 0.5363 - val_loss: 0.7387 - val_acc: 0.6929\n",
      "Epoch 5/100\n",
      "107/107 [==============================] - 1s 13ms/step - loss: 1.0249 - acc: 0.6092 - val_loss: 0.8304 - val_acc: 0.6671\n",
      "Epoch 6/100\n",
      "107/107 [==============================] - 1s 12ms/step - loss: 1.0004 - acc: 0.6183 - val_loss: 0.8567 - val_acc: 0.6765\n",
      "Epoch 7/100\n",
      "107/107 [==============================] - 1s 13ms/step - loss: 1.0400 - acc: 0.6012 - val_loss: 0.5714 - val_acc: 0.7647\n",
      "Epoch 8/100\n",
      "107/107 [==============================] - 1s 13ms/step - loss: 0.8264 - acc: 0.6862 - val_loss: 0.6821 - val_acc: 0.7212\n",
      "Epoch 9/100\n",
      "107/107 [==============================] - 1s 12ms/step - loss: 0.8462 - acc: 0.6633 - val_loss: 0.5690 - val_acc: 0.8035\n",
      "Epoch 10/100\n",
      "107/107 [==============================] - 1s 12ms/step - loss: 0.7995 - acc: 0.6891 - val_loss: 0.5872 - val_acc: 0.7706\n",
      "Epoch 11/100\n",
      "107/107 [==============================] - 1s 12ms/step - loss: 0.7692 - acc: 0.6932 - val_loss: 0.6336 - val_acc: 0.7541\n",
      "Epoch 12/100\n",
      "107/107 [==============================] - 1s 11ms/step - loss: 0.7308 - acc: 0.7064 - val_loss: 0.6452 - val_acc: 0.7624\n",
      "Epoch 13/100\n",
      "107/107 [==============================] - 1s 13ms/step - loss: 0.6894 - acc: 0.7304 - val_loss: 0.7256 - val_acc: 0.7318\n",
      "Epoch 14/100\n",
      "107/107 [==============================] - 1s 13ms/step - loss: 0.7004 - acc: 0.7243 - val_loss: 0.5518 - val_acc: 0.8106\n",
      "Epoch 15/100\n",
      "107/107 [==============================] - 1s 12ms/step - loss: 0.6214 - acc: 0.7573 - val_loss: 0.9800 - val_acc: 0.6729\n",
      "Epoch 16/100\n",
      "107/107 [==============================] - 1s 14ms/step - loss: 0.7534 - acc: 0.6999 - val_loss: 0.5353 - val_acc: 0.7859\n",
      "Epoch 17/100\n",
      "107/107 [==============================] - 1s 12ms/step - loss: 0.6635 - acc: 0.7239 - val_loss: 0.5903 - val_acc: 0.8000\n",
      "Epoch 18/100\n",
      "107/107 [==============================] - 1s 12ms/step - loss: 0.6001 - acc: 0.7552 - val_loss: 0.6229 - val_acc: 0.7953\n",
      "Epoch 19/100\n",
      "107/107 [==============================] - 1s 13ms/step - loss: 0.7253 - acc: 0.7213 - val_loss: 0.4099 - val_acc: 0.8600\n",
      "Epoch 20/100\n",
      "107/107 [==============================] - 1s 13ms/step - loss: 0.5260 - acc: 0.7928 - val_loss: 0.4421 - val_acc: 0.8341\n",
      "Epoch 21/100\n",
      "107/107 [==============================] - 1s 12ms/step - loss: 0.5587 - acc: 0.7808 - val_loss: 0.5364 - val_acc: 0.7929\n",
      "Epoch 22/100\n",
      "107/107 [==============================] - 1s 12ms/step - loss: 0.6314 - acc: 0.7493 - val_loss: 0.4992 - val_acc: 0.8259\n",
      "Epoch 23/100\n",
      "107/107 [==============================] - 1s 11ms/step - loss: 0.6351 - acc: 0.7556 - val_loss: 0.5545 - val_acc: 0.8212\n",
      "Epoch 24/100\n",
      "107/107 [==============================] - 1s 11ms/step - loss: 0.5587 - acc: 0.7975 - val_loss: 0.5342 - val_acc: 0.8271\n",
      "\n",
      "Epoch 00024: ReduceLROnPlateau reducing learning rate to 0.00020000000949949026.\n",
      "Epoch 25/100\n",
      "107/107 [==============================] - 1s 12ms/step - loss: 0.4775 - acc: 0.8065 - val_loss: 0.3796 - val_acc: 0.8788\n",
      "Epoch 26/100\n",
      "107/107 [==============================] - 1s 11ms/step - loss: 0.4332 - acc: 0.8313 - val_loss: 0.3590 - val_acc: 0.8718\n",
      "Epoch 27/100\n",
      "107/107 [==============================] - 1s 11ms/step - loss: 0.4060 - acc: 0.8396 - val_loss: 0.3604 - val_acc: 0.8824\n",
      "Epoch 28/100\n",
      "107/107 [==============================] - 1s 11ms/step - loss: 0.3857 - acc: 0.8489 - val_loss: 0.3636 - val_acc: 0.8835\n",
      "Epoch 29/100\n",
      "107/107 [==============================] - 1s 12ms/step - loss: 0.3569 - acc: 0.8618 - val_loss: 0.3521 - val_acc: 0.8859\n",
      "Epoch 30/100\n",
      "107/107 [==============================] - 1s 11ms/step - loss: 0.3992 - acc: 0.8435 - val_loss: 0.3457 - val_acc: 0.8929\n",
      "Epoch 31/100\n",
      "107/107 [==============================] - 1s 12ms/step - loss: 0.3589 - acc: 0.8586 - val_loss: 0.3178 - val_acc: 0.9000\n",
      "Epoch 32/100\n",
      "107/107 [==============================] - 1s 13ms/step - loss: 0.3454 - acc: 0.8676 - val_loss: 0.3332 - val_acc: 0.8859\n",
      "Epoch 33/100\n",
      "107/107 [==============================] - 1s 12ms/step - loss: 0.3644 - acc: 0.8610 - val_loss: 0.3896 - val_acc: 0.8612\n",
      "Epoch 34/100\n",
      "107/107 [==============================] - 1s 12ms/step - loss: 0.3938 - acc: 0.8407 - val_loss: 0.3399 - val_acc: 0.8953\n",
      "Epoch 35/100\n",
      "107/107 [==============================] - 1s 11ms/step - loss: 0.3792 - acc: 0.8472 - val_loss: 0.3205 - val_acc: 0.9012\n",
      "Epoch 36/100\n",
      "107/107 [==============================] - 1s 12ms/step - loss: 0.3750 - acc: 0.8597 - val_loss: 0.3095 - val_acc: 0.8965\n",
      "Epoch 37/100\n",
      "107/107 [==============================] - 1s 12ms/step - loss: 0.3550 - acc: 0.8625 - val_loss: 0.3262 - val_acc: 0.9059\n",
      "Epoch 38/100\n",
      "107/107 [==============================] - 1s 11ms/step - loss: 0.3509 - acc: 0.8638 - val_loss: 0.3178 - val_acc: 0.8988\n",
      "Epoch 39/100\n",
      "107/107 [==============================] - 1s 12ms/step - loss: 0.3569 - acc: 0.8589 - val_loss: 0.3193 - val_acc: 0.9024\n",
      "Epoch 40/100\n",
      "107/107 [==============================] - 1s 11ms/step - loss: 0.3819 - acc: 0.8488 - val_loss: 0.2993 - val_acc: 0.8953\n",
      "Epoch 41/100\n",
      "107/107 [==============================] - 1s 12ms/step - loss: 0.3592 - acc: 0.8534 - val_loss: 0.3343 - val_acc: 0.8941\n",
      "Epoch 42/100\n",
      "107/107 [==============================] - 1s 12ms/step - loss: 0.3593 - acc: 0.8598 - val_loss: 0.3237 - val_acc: 0.8965\n",
      "\n",
      "Epoch 00042: ReduceLROnPlateau reducing learning rate to 4.0000001899898055e-05.\n",
      "Epoch 43/100\n",
      "107/107 [==============================] - 1s 11ms/step - loss: 0.3300 - acc: 0.8688 - val_loss: 0.2982 - val_acc: 0.8988\n",
      "Epoch 44/100\n",
      "107/107 [==============================] - 1s 12ms/step - loss: 0.3337 - acc: 0.8707 - val_loss: 0.2881 - val_acc: 0.9071\n",
      "Epoch 45/100\n",
      "107/107 [==============================] - 1s 11ms/step - loss: 0.3040 - acc: 0.8847 - val_loss: 0.2920 - val_acc: 0.9071\n",
      "Epoch 46/100\n",
      "107/107 [==============================] - 1s 12ms/step - loss: 0.3175 - acc: 0.8681 - val_loss: 0.2893 - val_acc: 0.9047\n",
      "Epoch 47/100\n",
      "107/107 [==============================] - 1s 12ms/step - loss: 0.3156 - acc: 0.8791 - val_loss: 0.3007 - val_acc: 0.9024\n",
      "Epoch 48/100\n",
      "107/107 [==============================] - 1s 12ms/step - loss: 0.3158 - acc: 0.8683 - val_loss: 0.2873 - val_acc: 0.9059\n",
      "Epoch 49/100\n",
      "107/107 [==============================] - 1s 11ms/step - loss: 0.3164 - acc: 0.8803 - val_loss: 0.3007 - val_acc: 0.9035\n",
      "\n",
      "Epoch 00049: ReduceLROnPlateau reducing learning rate to 1e-05.\n",
      "Epoch 50/100\n",
      "107/107 [==============================] - 1s 10ms/step - loss: 0.3042 - acc: 0.8825 - val_loss: 0.2909 - val_acc: 0.9106\n",
      "Epoch 51/100\n",
      "107/107 [==============================] - 1s 11ms/step - loss: 0.3079 - acc: 0.8815 - val_loss: 0.2952 - val_acc: 0.9071\n",
      "Epoch 52/100\n",
      "107/107 [==============================] - 1s 10ms/step - loss: 0.2994 - acc: 0.8796 - val_loss: 0.2935 - val_acc: 0.9059\n",
      "Epoch 53/100\n",
      "107/107 [==============================] - 1s 12ms/step - loss: 0.3010 - acc: 0.8777 - val_loss: 0.2871 - val_acc: 0.9106\n",
      "Epoch 54/100\n",
      "107/107 [==============================] - 1s 12ms/step - loss: 0.3048 - acc: 0.8821 - val_loss: 0.2958 - val_acc: 0.9094\n",
      "Epoch 55/100\n",
      "107/107 [==============================] - 1s 11ms/step - loss: 0.2975 - acc: 0.8812 - val_loss: 0.2886 - val_acc: 0.9141\n",
      "Epoch 56/100\n",
      "107/107 [==============================] - 1s 11ms/step - loss: 0.3162 - acc: 0.8718 - val_loss: 0.2867 - val_acc: 0.9094\n",
      "Epoch 57/100\n",
      "107/107 [==============================] - 1s 12ms/step - loss: 0.3137 - acc: 0.8732 - val_loss: 0.2932 - val_acc: 0.9106\n",
      "Epoch 58/100\n",
      "107/107 [==============================] - 1s 12ms/step - loss: 0.2969 - acc: 0.8755 - val_loss: 0.2903 - val_acc: 0.9129\n",
      "Epoch 59/100\n",
      "107/107 [==============================] - 1s 11ms/step - loss: 0.2971 - acc: 0.8766 - val_loss: 0.2908 - val_acc: 0.9141\n",
      "Epoch 60/100\n",
      "107/107 [==============================] - 1s 10ms/step - loss: 0.2837 - acc: 0.8898 - val_loss: 0.2941 - val_acc: 0.9118\n",
      "Epoch 61/100\n",
      "107/107 [==============================] - 1s 10ms/step - loss: 0.3224 - acc: 0.8803 - val_loss: 0.2855 - val_acc: 0.9129\n",
      "Epoch 62/100\n",
      "107/107 [==============================] - 1s 12ms/step - loss: 0.2835 - acc: 0.8949 - val_loss: 0.2936 - val_acc: 0.9106\n",
      "Epoch 63/100\n",
      "107/107 [==============================] - 1s 12ms/step - loss: 0.3186 - acc: 0.8773 - val_loss: 0.2897 - val_acc: 0.9118\n",
      "Epoch 64/100\n",
      "107/107 [==============================] - 1s 11ms/step - loss: 0.2992 - acc: 0.8828 - val_loss: 0.2853 - val_acc: 0.9094\n",
      "Epoch 65/100\n",
      "107/107 [==============================] - 1s 12ms/step - loss: 0.2793 - acc: 0.8913 - val_loss: 0.2849 - val_acc: 0.9094\n",
      "Restoring model weights from the end of the best epoch.\n",
      "Epoch 00065: early stopping\n"
     ]
    }
   ],
   "source": [
    "from tensorflow.keras.optimizers import Adam\n",
    "\n",
    "adam = Adam(learning_rate=0.001)\n",
    "\n",
    "model.compile(loss='categorical_crossentropy',\n",
    "              optimizer=adam,\n",
    "              metrics=['acc'])\n",
    "\n",
    "history = model.fit(x_train, y_train,\n",
    "                      epochs=100,\n",
    "                      batch_size=32,\n",
    "                      validation_split=val_split,\n",
    "                      callbacks=[early_stop, reduce_lr])"
   ]
  },
  {
   "cell_type": "code",
   "execution_count": 145,
   "metadata": {},
   "outputs": [
    {
     "data": {
      "text/plain": [
       "<matplotlib.legend.Legend at 0x1c5cc71b7f0>"
      ]
     },
     "execution_count": 145,
     "metadata": {},
     "output_type": "execute_result"
    },
    {
     "data": {
      "image/png": "[encoded data removed]",
      "text/plain": [
       "<Figure size 864x576 with 2 Axes>"
      ]
     },
     "metadata": {
      "needs_background": "light"
     },
     "output_type": "display_data"
    }
   ],
   "source": [
    "plt.figure(figsize=(12, 8))\n",
    "\n",
    "plt.subplot(2, 2, 1)\n",
    "plt.plot(history.history['loss'], label='train loss')\n",
    "plt.plot(history.history['val_loss'], label='val loss')\n",
    "plt.legend()\n",
    "\n",
    "plt.subplot(2, 2, 2)\n",
    "plt.plot(history.history['acc'], label='train acc')\n",
    "plt.plot(history.history['val_acc'], label='val acc')\n",
    "plt.legend()"
   ]
  },
  {
   "cell_type": "markdown",
   "metadata": {},
   "source": [
    "### Save Model"
   ]
  },
  {
   "cell_type": "code",
   "execution_count": 146,
   "metadata": {},
   "outputs": [],
   "source": [
    "model.save(f'{model.name}.h5')"
   ]
  },
  {
   "cell_type": "markdown",
   "metadata": {},
   "source": [
    "## Store Variables"
   ]
  },
  {
   "cell_type": "code",
   "execution_count": 147,
   "metadata": {},
   "outputs": [
    {
     "name": "stdout",
     "output_type": "stream",
     "text": [
      "Stored 'x_test' (ndarray)\n",
      "Stored 'y_test' (ndarray)\n",
      "Stored 'model_name' (str)\n",
      "Stored 'classes' (ndarray)\n"
     ]
    }
   ],
   "source": [
    "model_name = model.name\n",
    "%store x_test\n",
    "%store y_test\n",
    "%store model_name\n",
    "%store classes\n",
    "del x_test\n",
    "del y_test\n",
    "del model_name\n",
    "del classes"
   ]
  }
 ],
 "metadata": {
  "kernelspec": {
   "display_name": "Python 3",
   "language": "python",
   "name": "python3"
  },
  "language_info": {
   "codemirror_mode": {
    "name": "ipython",
    "version": 3
   },
   "file_extension": ".py",
   "mimetype": "text/x-python",
   "name": "python",
   "nbconvert_exporter": "python",
   "pygments_lexer": "ipython3",
   "version": "3.8.5"
  }
 },
 "nbformat": 4,
 "nbformat_minor": 4
}
