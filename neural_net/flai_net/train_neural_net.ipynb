{
 "cells": [
  {
   "cell_type": "markdown",
   "metadata": {},
   "source": [
    "# FLAI_Net Training"
   ]
  },
  {
   "cell_type": "code",
   "execution_count": 335,
   "metadata": {},
   "outputs": [],
   "source": [
    "import numpy as np\n",
    "import pandas as pd\n",
    "import matplotlib.pyplot as plt"
   ]
  },
  {
   "cell_type": "markdown",
   "metadata": {},
   "source": [
    "## Import Dataset"
   ]
  },
  {
   "cell_type": "code",
   "execution_count": 336,
   "metadata": {},
   "outputs": [
    {
     "data": {
      "text/html": [
       "<div>\n",
       "<style scoped>\n",
       "    .dataframe tbody tr th:only-of-type {\n",
       "        vertical-align: middle;\n",
       "    }\n",
       "\n",
       "    .dataframe tbody tr th {\n",
       "        vertical-align: top;\n",
       "    }\n",
       "\n",
       "    .dataframe thead th {\n",
       "        text-align: right;\n",
       "    }\n",
       "</style>\n",
       "<table border=\"1\" class=\"dataframe\">\n",
       "  <thead>\n",
       "    <tr style=\"text-align: right;\">\n",
       "      <th></th>\n",
       "      <th>user</th>\n",
       "      <th>label</th>\n",
       "      <th>coordinate 0</th>\n",
       "      <th>coordinate 1</th>\n",
       "      <th>coordinate 2</th>\n",
       "      <th>coordinate 3</th>\n",
       "      <th>coordinate 4</th>\n",
       "      <th>coordinate 5</th>\n",
       "      <th>coordinate 6</th>\n",
       "      <th>coordinate 7</th>\n",
       "      <th>...</th>\n",
       "      <th>coordinate 53</th>\n",
       "      <th>coordinate 54</th>\n",
       "      <th>coordinate 55</th>\n",
       "      <th>coordinate 56</th>\n",
       "      <th>coordinate 57</th>\n",
       "      <th>coordinate 58</th>\n",
       "      <th>coordinate 59</th>\n",
       "      <th>coordinate 60</th>\n",
       "      <th>coordinate 61</th>\n",
       "      <th>coordinate 62</th>\n",
       "    </tr>\n",
       "  </thead>\n",
       "  <tbody>\n",
       "    <tr>\n",
       "      <th>0</th>\n",
       "      <td>lea</td>\n",
       "      <td>a</td>\n",
       "      <td>0.699433</td>\n",
       "      <td>0.694308</td>\n",
       "      <td>-5.125001e-07</td>\n",
       "      <td>0.648201</td>\n",
       "      <td>0.623592</td>\n",
       "      <td>-0.013627</td>\n",
       "      <td>0.620721</td>\n",
       "      <td>0.537524</td>\n",
       "      <td>...</td>\n",
       "      <td>-0.021148</td>\n",
       "      <td>0.727923</td>\n",
       "      <td>0.482140</td>\n",
       "      <td>-0.033280</td>\n",
       "      <td>0.721847</td>\n",
       "      <td>0.531752</td>\n",
       "      <td>-0.020166</td>\n",
       "      <td>0.734710</td>\n",
       "      <td>0.541902</td>\n",
       "      <td>-0.006052</td>\n",
       "    </tr>\n",
       "    <tr>\n",
       "      <th>2055</th>\n",
       "      <td>Martin</td>\n",
       "      <td>a</td>\n",
       "      <td>0.755843</td>\n",
       "      <td>0.946230</td>\n",
       "      <td>-7.576355e-07</td>\n",
       "      <td>0.596653</td>\n",
       "      <td>0.829356</td>\n",
       "      <td>-0.110176</td>\n",
       "      <td>0.508049</td>\n",
       "      <td>0.659072</td>\n",
       "      <td>...</td>\n",
       "      <td>-0.162198</td>\n",
       "      <td>0.919824</td>\n",
       "      <td>0.336035</td>\n",
       "      <td>-0.268012</td>\n",
       "      <td>0.894528</td>\n",
       "      <td>0.449780</td>\n",
       "      <td>-0.275523</td>\n",
       "      <td>0.853873</td>\n",
       "      <td>0.497211</td>\n",
       "      <td>-0.263470</td>\n",
       "    </tr>\n",
       "    <tr>\n",
       "      <th>2054</th>\n",
       "      <td>Martin</td>\n",
       "      <td>a</td>\n",
       "      <td>0.448966</td>\n",
       "      <td>0.805226</td>\n",
       "      <td>-6.289455e-07</td>\n",
       "      <td>0.553169</td>\n",
       "      <td>0.762983</td>\n",
       "      <td>-0.027101</td>\n",
       "      <td>0.617719</td>\n",
       "      <td>0.629570</td>\n",
       "      <td>...</td>\n",
       "      <td>-0.031833</td>\n",
       "      <td>0.432160</td>\n",
       "      <td>0.389669</td>\n",
       "      <td>-0.056247</td>\n",
       "      <td>0.446245</td>\n",
       "      <td>0.467956</td>\n",
       "      <td>-0.039005</td>\n",
       "      <td>0.441467</td>\n",
       "      <td>0.513121</td>\n",
       "      <td>-0.018076</td>\n",
       "    </tr>\n",
       "    <tr>\n",
       "      <th>2053</th>\n",
       "      <td>Martin</td>\n",
       "      <td>a</td>\n",
       "      <td>0.642172</td>\n",
       "      <td>0.783267</td>\n",
       "      <td>-9.619788e-07</td>\n",
       "      <td>0.548792</td>\n",
       "      <td>0.735658</td>\n",
       "      <td>-0.047853</td>\n",
       "      <td>0.478785</td>\n",
       "      <td>0.619713</td>\n",
       "      <td>...</td>\n",
       "      <td>-0.012934</td>\n",
       "      <td>0.690963</td>\n",
       "      <td>0.380511</td>\n",
       "      <td>-0.038585</td>\n",
       "      <td>0.675585</td>\n",
       "      <td>0.456306</td>\n",
       "      <td>-0.021411</td>\n",
       "      <td>0.669445</td>\n",
       "      <td>0.498558</td>\n",
       "      <td>-0.000121</td>\n",
       "    </tr>\n",
       "    <tr>\n",
       "      <th>2052</th>\n",
       "      <td>Martin</td>\n",
       "      <td>a</td>\n",
       "      <td>0.712538</td>\n",
       "      <td>0.878059</td>\n",
       "      <td>-1.231915e-06</td>\n",
       "      <td>0.591809</td>\n",
       "      <td>0.799211</td>\n",
       "      <td>-0.057425</td>\n",
       "      <td>0.506353</td>\n",
       "      <td>0.622470</td>\n",
       "      <td>...</td>\n",
       "      <td>-0.024946</td>\n",
       "      <td>0.815513</td>\n",
       "      <td>0.338214</td>\n",
       "      <td>-0.068287</td>\n",
       "      <td>0.788838</td>\n",
       "      <td>0.439484</td>\n",
       "      <td>-0.054281</td>\n",
       "      <td>0.773832</td>\n",
       "      <td>0.491689</td>\n",
       "      <td>-0.031064</td>\n",
       "    </tr>\n",
       "  </tbody>\n",
       "</table>\n",
       "<p>5 rows × 65 columns</p>\n",
       "</div>"
      ],
      "text/plain": [
       "        user label  coordinate 0  coordinate 1  coordinate 2  coordinate 3  \\\n",
       "0        lea     a      0.699433      0.694308 -5.125001e-07      0.648201   \n",
       "2055  Martin     a      0.755843      0.946230 -7.576355e-07      0.596653   \n",
       "2054  Martin     a      0.448966      0.805226 -6.289455e-07      0.553169   \n",
       "2053  Martin     a      0.642172      0.783267 -9.619788e-07      0.548792   \n",
       "2052  Martin     a      0.712538      0.878059 -1.231915e-06      0.591809   \n",
       "\n",
       "      coordinate 4  coordinate 5  coordinate 6  coordinate 7  ...  \\\n",
       "0         0.623592     -0.013627      0.620721      0.537524  ...   \n",
       "2055      0.829356     -0.110176      0.508049      0.659072  ...   \n",
       "2054      0.762983     -0.027101      0.617719      0.629570  ...   \n",
       "2053      0.735658     -0.047853      0.478785      0.619713  ...   \n",
       "2052      0.799211     -0.057425      0.506353      0.622470  ...   \n",
       "\n",
       "      coordinate 53  coordinate 54  coordinate 55  coordinate 56  \\\n",
       "0         -0.021148       0.727923       0.482140      -0.033280   \n",
       "2055      -0.162198       0.919824       0.336035      -0.268012   \n",
       "2054      -0.031833       0.432160       0.389669      -0.056247   \n",
       "2053      -0.012934       0.690963       0.380511      -0.038585   \n",
       "2052      -0.024946       0.815513       0.338214      -0.068287   \n",
       "\n",
       "      coordinate 57  coordinate 58  coordinate 59  coordinate 60  \\\n",
       "0          0.721847       0.531752      -0.020166       0.734710   \n",
       "2055       0.894528       0.449780      -0.275523       0.853873   \n",
       "2054       0.446245       0.467956      -0.039005       0.441467   \n",
       "2053       0.675585       0.456306      -0.021411       0.669445   \n",
       "2052       0.788838       0.439484      -0.054281       0.773832   \n",
       "\n",
       "      coordinate 61  coordinate 62  \n",
       "0          0.541902      -0.006052  \n",
       "2055       0.497211      -0.263470  \n",
       "2054       0.513121      -0.018076  \n",
       "2053       0.498558      -0.000121  \n",
       "2052       0.491689      -0.031064  \n",
       "\n",
       "[5 rows x 65 columns]"
      ]
     },
     "execution_count": 336,
     "metadata": {},
     "output_type": "execute_result"
    }
   ],
   "source": [
    "ds = pd.read_csv('../dataset/flai_data.csv')\n",
    "ds = ds.sort_values('label')\n",
    "ds.head()"
   ]
  },
  {
   "cell_type": "code",
   "execution_count": 337,
   "metadata": {},
   "outputs": [],
   "source": [
    "#ds.drop(ds[ds.user=='eva'].index, inplace=True)\n",
    "#ds.drop(ds[ds.user=='kieu'].index, inplace=True)"
   ]
  },
  {
   "cell_type": "markdown",
   "metadata": {},
   "source": [
    "### Dataset Statistics"
   ]
  },
  {
   "cell_type": "code",
   "execution_count": 338,
   "metadata": {},
   "outputs": [
    {
     "name": "stdout",
     "output_type": "stream",
     "text": [
      "Samples: 7306\n",
      "Unique contributors: 7\n",
      "Classes: ['a' 'b' 'c' 'd' 'e' 'f' 'g' 'h' 'i' 'k' 'l' 'm' 'n' 'o' 'p' 'q' 'r' 's'\n",
      " 't' 'u' 'v' 'w' 'x' 'y']\n"
     ]
    }
   ],
   "source": [
    "num_samples = len(ds)\n",
    "num_contributors = len(pd.unique(ds.user))\n",
    "classes = pd.unique(ds.label)\n",
    "print(f'Samples: {num_samples}')\n",
    "print(f'Unique contributors: {num_contributors}')\n",
    "print(f'Classes: {classes}')"
   ]
  },
  {
   "cell_type": "code",
   "execution_count": 339,
   "metadata": {},
   "outputs": [
    {
     "data": {
      "image/png": "[encoded data removed]",
      "text/plain": [
       "<Figure size 432x288 with 1 Axes>"
      ]
     },
     "metadata": {
      "needs_background": "light"
     },
     "output_type": "display_data"
    }
   ],
   "source": [
    "samples_per_label = ds.label.value_counts().sort_index()\n",
    "color = (112/255, 219/255, 189/255)\n",
    "x_pos = [i for i in range(len(samples_per_label.index))]\n",
    "plt.bar(x_pos, samples_per_label, color=color)\n",
    "plt.xticks(x_pos, samples_per_label.index)\n",
    "plt.ylabel('Samples per Class')\n",
    "plt.title('Sample Count per Class')\n",
    "plt.show()"
   ]
  },
  {
   "cell_type": "markdown",
   "metadata": {},
   "source": [
    "### Shuffle and Split Dataset"
   ]
  },
  {
   "cell_type": "code",
   "execution_count": 340,
   "metadata": {},
   "outputs": [],
   "source": [
    "ds_y = ds.label.array\n",
    "ds_y = pd.factorize(ds_y)[0]\n",
    "ds_y = np.array(ds_y)\n",
    "\n",
    "ds_x = ds.drop(['label', 'user'], axis=1)\n",
    "ds_x = ds_x.to_numpy()"
   ]
  },
  {
   "cell_type": "markdown",
   "metadata": {},
   "source": [
    "### Reshape Landmark Vectors"
   ]
  },
  {
   "cell_type": "code",
   "execution_count": 341,
   "metadata": {},
   "outputs": [
    {
     "name": "stdout",
     "output_type": "stream",
     "text": [
      "(7306,)\n",
      "(7306, 63)\n"
     ]
    }
   ],
   "source": [
    "print(ds_y.shape)\n",
    "print(ds_x.shape)"
   ]
  },
  {
   "cell_type": "code",
   "execution_count": 342,
   "metadata": {},
   "outputs": [
    {
     "data": {
      "text/plain": [
       "array([ 6.99432850e-01,  6.94307625e-01, -5.12500094e-07,  6.48200691e-01,\n",
       "        6.23592496e-01, -1.36267236e-02,  6.20720923e-01,  5.37523866e-01,\n",
       "       -2.01442521e-02,  6.07638955e-01,  4.67061907e-01, -2.85377838e-02,\n",
       "        6.00271761e-01,  4.16281372e-01, -3.05005834e-02,  6.55191422e-01,\n",
       "        4.72326428e-01,  3.89135070e-03,  6.30940795e-01,  4.29065526e-01,\n",
       "       -2.34259535e-02,  6.34310663e-01,  4.98505652e-01, -3.33129242e-02,\n",
       "        6.48533404e-01,  5.13644457e-01, -3.60103212e-02,  6.87628984e-01,\n",
       "        4.80656058e-01, -1.51438304e-04,  6.60038352e-01,  4.41826195e-01,\n",
       "       -3.08961757e-02,  6.61018908e-01,  5.20892382e-01, -3.05466056e-02,\n",
       "        6.74857080e-01,  5.27491987e-01, -2.22713463e-02,  7.22853780e-01,\n",
       "        4.93092418e-01, -9.74212121e-03,  6.93014264e-01,  4.60825503e-01,\n",
       "       -3.92407142e-02,  6.89506471e-01,  5.36606252e-01, -2.47875750e-02,\n",
       "        7.03833342e-01,  5.44018388e-01, -7.12022185e-03,  7.57056534e-01,\n",
       "        5.10160089e-01, -2.11480428e-02,  7.27923214e-01,  4.82139587e-01,\n",
       "       -3.32798176e-02,  7.21847117e-01,  5.31752169e-01, -2.01655403e-02,\n",
       "        7.34709859e-01,  5.41901708e-01, -6.05162373e-03])"
      ]
     },
     "execution_count": 342,
     "metadata": {},
     "output_type": "execute_result"
    }
   ],
   "source": [
    "ds_x[0]"
   ]
  },
  {
   "cell_type": "code",
   "execution_count": 343,
   "metadata": {},
   "outputs": [
    {
     "name": "stdout",
     "output_type": "stream",
     "text": [
      "(7306, 21, 3)\n"
     ]
    }
   ],
   "source": [
    "num_samples = ds_x.shape[0]\n",
    "dim = 3\n",
    "landmarks = 21\n",
    "ds_x = ds_x.reshape((num_samples, landmarks, dim))\n",
    "print(ds_x.shape)"
   ]
  },
  {
   "cell_type": "code",
   "execution_count": 344,
   "metadata": {},
   "outputs": [
    {
     "data": {
      "text/plain": [
       "array([[ 6.99432850e-01,  6.94307625e-01, -5.12500094e-07],\n",
       "       [ 6.48200691e-01,  6.23592496e-01, -1.36267236e-02],\n",
       "       [ 6.20720923e-01,  5.37523866e-01, -2.01442521e-02],\n",
       "       [ 6.07638955e-01,  4.67061907e-01, -2.85377838e-02],\n",
       "       [ 6.00271761e-01,  4.16281372e-01, -3.05005834e-02],\n",
       "       [ 6.55191422e-01,  4.72326428e-01,  3.89135070e-03],\n",
       "       [ 6.30940795e-01,  4.29065526e-01, -2.34259535e-02],\n",
       "       [ 6.34310663e-01,  4.98505652e-01, -3.33129242e-02],\n",
       "       [ 6.48533404e-01,  5.13644457e-01, -3.60103212e-02],\n",
       "       [ 6.87628984e-01,  4.80656058e-01, -1.51438304e-04],\n",
       "       [ 6.60038352e-01,  4.41826195e-01, -3.08961757e-02],\n",
       "       [ 6.61018908e-01,  5.20892382e-01, -3.05466056e-02],\n",
       "       [ 6.74857080e-01,  5.27491987e-01, -2.22713463e-02],\n",
       "       [ 7.22853780e-01,  4.93092418e-01, -9.74212121e-03],\n",
       "       [ 6.93014264e-01,  4.60825503e-01, -3.92407142e-02],\n",
       "       [ 6.89506471e-01,  5.36606252e-01, -2.47875750e-02],\n",
       "       [ 7.03833342e-01,  5.44018388e-01, -7.12022185e-03],\n",
       "       [ 7.57056534e-01,  5.10160089e-01, -2.11480428e-02],\n",
       "       [ 7.27923214e-01,  4.82139587e-01, -3.32798176e-02],\n",
       "       [ 7.21847117e-01,  5.31752169e-01, -2.01655403e-02],\n",
       "       [ 7.34709859e-01,  5.41901708e-01, -6.05162373e-03]])"
      ]
     },
     "execution_count": 344,
     "metadata": {},
     "output_type": "execute_result"
    }
   ],
   "source": [
    "ds_x[0]"
   ]
  },
  {
   "cell_type": "code",
   "execution_count": 345,
   "metadata": {},
   "outputs": [],
   "source": [
    "from sklearn.model_selection import train_test_split\n",
    "x_train, x_test, y_train, y_test = train_test_split(ds_x, ds_y, test_size=0.2, random_state=42)"
   ]
  },
  {
   "cell_type": "code",
   "execution_count": 346,
   "metadata": {},
   "outputs": [
    {
     "name": "stdout",
     "output_type": "stream",
     "text": [
      "(5844, 21, 3)\n",
      "(5844,)\n",
      "(1462, 21, 3)\n",
      "(1462,)\n"
     ]
    }
   ],
   "source": [
    "print(x_train.shape)\n",
    "print(y_train.shape)\n",
    "print(x_test.shape)\n",
    "print(y_test.shape)"
   ]
  },
  {
   "cell_type": "markdown",
   "metadata": {},
   "source": [
    "### Plot Vectors"
   ]
  },
  {
   "cell_type": "code",
   "execution_count": 347,
   "metadata": {},
   "outputs": [
    {
     "data": {
      "text/plain": [
       "(1462, 21, 3)"
      ]
     },
     "execution_count": 347,
     "metadata": {},
     "output_type": "execute_result"
    }
   ],
   "source": [
    "data = [x_test, y_test]\n",
    "data[0] = data[0].reshape(data[0].shape[0], 21, 3)\n",
    "data[0].shape"
   ]
  },
  {
   "cell_type": "code",
   "execution_count": 348,
   "metadata": {},
   "outputs": [
    {
     "data": {
      "image/png": "[encoded data removed]",
      "text/plain": [
       "<Figure size 432x288 with 1 Axes>"
      ]
     },
     "metadata": {
      "needs_background": "light"
     },
     "output_type": "display_data"
    }
   ],
   "source": [
    "num = 10\n",
    "example = data[0][num]\n",
    "label = data[1][num]\n",
    "\n",
    "fig = plt.figure()\n",
    "ax = fig.add_subplot(projection='3d')\n",
    "\n",
    "for vec in example:\n",
    "    ax.scatter(vec[0], vec[2], vec[1], c=[color])\n",
    "\n",
    "plt.title(f'Label: {classes[label]}')\n",
    "ax.set_xlabel('X')\n",
    "ax.set_ylabel('Z')\n",
    "ax.set_zlabel('Y')\n",
    "\n",
    "plt.show()"
   ]
  },
  {
   "cell_type": "markdown",
   "metadata": {},
   "source": [
    "## Train Neural Network"
   ]
  },
  {
   "cell_type": "markdown",
   "metadata": {},
   "source": [
    "### Set Hyperparameters"
   ]
  },
  {
   "cell_type": "code",
   "execution_count": 349,
   "metadata": {},
   "outputs": [],
   "source": [
    "epochs = 10\n",
    "val_split = .2"
   ]
  },
  {
   "cell_type": "markdown",
   "metadata": {},
   "source": [
    "### Labels to One Hot"
   ]
  },
  {
   "cell_type": "code",
   "execution_count": 350,
   "metadata": {},
   "outputs": [
    {
     "name": "stdout",
     "output_type": "stream",
     "text": [
      "(5844, 24)\n",
      "(1462, 24)\n"
     ]
    }
   ],
   "source": [
    "from tensorflow.keras.utils import to_categorical\n",
    "\n",
    "y_train = to_categorical(y_train.astype(int))\n",
    "y_test = to_categorical(y_test.astype(int))\n",
    "\n",
    "print(y_train.shape)\n",
    "print(y_test.shape)"
   ]
  },
  {
   "cell_type": "markdown",
   "metadata": {},
   "source": [
    "### Create Callbacks"
   ]
  },
  {
   "cell_type": "code",
   "execution_count": 351,
   "metadata": {},
   "outputs": [],
   "source": [
    "from tensorflow.keras.callbacks import EarlyStopping, ReduceLROnPlateau\n",
    "\n",
    "early_stop = EarlyStopping(monitor='val_acc',\n",
    "                           restore_best_weights=True,\n",
    "                           patience=10,\n",
    "                           verbose=1)\n",
    "\n",
    "reduce_lr = ReduceLROnPlateau(monitor='val_acc',\n",
    "                              factor=0.2,\n",
    "                              min_lr=0.00001,\n",
    "                              patience=5,\n",
    "                              verbose=1)"
   ]
  },
  {
   "cell_type": "markdown",
   "metadata": {},
   "source": [
    "### Create Model"
   ]
  },
  {
   "cell_type": "code",
   "execution_count": 352,
   "metadata": {},
   "outputs": [
    {
     "name": "stdout",
     "output_type": "stream",
     "text": [
      "Model: \"Deep_Flai_7\"\n",
      "_________________________________________________________________\n",
      "Layer (type)                 Output Shape              Param #   \n",
      "=================================================================\n",
      "input_32 (InputLayer)        [(None, 21, 3)]           0         \n",
      "_________________________________________________________________\n",
      "flatten_2 (Flatten)          (None, 63)                0         \n",
      "_________________________________________________________________\n",
      "Dense_1 (Dense)              (None, 768)               49152     \n",
      "_________________________________________________________________\n",
      "Dropout_1 (AlphaDropout)     (None, 768)               0         \n",
      "_________________________________________________________________\n",
      "Dense_2 (Dense)              (None, 432)               332208    \n",
      "_________________________________________________________________\n",
      "Dropout_2 (AlphaDropout)     (None, 432)               0         \n",
      "_________________________________________________________________\n",
      "Dense_3 (Dense)              (None, 192)               83136     \n",
      "_________________________________________________________________\n",
      "Dropout_3 (AlphaDropout)     (None, 192)               0         \n",
      "_________________________________________________________________\n",
      "Dense_4 (Dense)              (None, 48)                9264      \n",
      "_________________________________________________________________\n",
      "Dropout_4 (AlphaDropout)     (None, 48)                0         \n",
      "_________________________________________________________________\n",
      "output_dense (Dense)         (None, 24)                1176      \n",
      "=================================================================\n",
      "Total params: 474,936\n",
      "Trainable params: 474,936\n",
      "Non-trainable params: 0\n",
      "_________________________________________________________________\n"
     ]
    }
   ],
   "source": [
    "from tensorflow.keras import Input, Model\n",
    "from tensorflow.keras.layers import Dense, Flatten, AlphaDropout\n",
    "from tensorflow.keras.layers.experimental.preprocessing import Normalization\n",
    "\n",
    "inputs = Input(shape=x_train[0].shape)\n",
    "flatten = Flatten()(inputs)\n",
    "\n",
    "dense_count = 4\n",
    "dense_base = 48\n",
    "out = flatten\n",
    "\n",
    "for i in range(dense_count):\n",
    "    units = (dense_count-i) * (dense_count-i) * dense_base\n",
    "    dense = Dense(units, \n",
    "                  kernel_initializer=\"lecun_normal\", \n",
    "                  bias_initializer=\"zeros\", \n",
    "                  activation='selu',\n",
    "                  name=f'Dense_{i+1}')\n",
    "    a_dropout = AlphaDropout(0.05, name=f'Dropout_{i+1}')\n",
    "    out = dense(out)\n",
    "    out = a_dropout(out)\n",
    "\n",
    "outputs = Dense(y_train[0].shape[0], activation='softmax', name='output_dense')(out)\n",
    "model = Model(inputs=inputs, outputs=outputs, name=\"Deep_Flai_7\")\n",
    "model.summary()"
   ]
  },
  {
   "cell_type": "markdown",
   "metadata": {},
   "source": [
    "### Train Model"
   ]
  },
  {
   "cell_type": "code",
   "execution_count": 353,
   "metadata": {},
   "outputs": [
    {
     "name": "stdout",
     "output_type": "stream",
     "text": [
      "Epoch 1/100\n",
      "147/147 [==============================] - 3s 12ms/step - loss: 3.3643 - acc: 0.0603 - val_loss: 2.5524 - val_acc: 0.2147\n",
      "Epoch 2/100\n",
      "147/147 [==============================] - 1s 8ms/step - loss: 2.6000 - acc: 0.1740 - val_loss: 1.4771 - val_acc: 0.4534\n",
      "Epoch 3/100\n",
      "147/147 [==============================] - 1s 8ms/step - loss: 1.9150 - acc: 0.3196 - val_loss: 1.2198 - val_acc: 0.4423\n",
      "Epoch 4/100\n",
      "147/147 [==============================] - 2s 11ms/step - loss: 1.6312 - acc: 0.3850 - val_loss: 1.0483 - val_acc: 0.5757\n",
      "Epoch 5/100\n",
      "147/147 [==============================] - 1s 8ms/step - loss: 1.4238 - acc: 0.4606 - val_loss: 0.7463 - val_acc: 0.6997\n",
      "Epoch 6/100\n",
      "147/147 [==============================] - 1s 9ms/step - loss: 1.2314 - acc: 0.5117 - val_loss: 0.7716 - val_acc: 0.6895\n",
      "Epoch 7/100\n",
      "147/147 [==============================] - 1s 9ms/step - loss: 1.1476 - acc: 0.5445 - val_loss: 0.6136 - val_acc: 0.7579\n",
      "Epoch 8/100\n",
      "147/147 [==============================] - 1s 9ms/step - loss: 1.0380 - acc: 0.5616 - val_loss: 0.6241 - val_acc: 0.7639\n",
      "Epoch 9/100\n",
      "147/147 [==============================] - 1s 9ms/step - loss: 1.0181 - acc: 0.5865 - val_loss: 0.5940 - val_acc: 0.7613\n",
      "Epoch 10/100\n",
      "147/147 [==============================] - 1s 8ms/step - loss: 0.9226 - acc: 0.6297 - val_loss: 0.5155 - val_acc: 0.7990\n",
      "Epoch 11/100\n",
      "147/147 [==============================] - 1s 8ms/step - loss: 0.9303 - acc: 0.6222 - val_loss: 0.6281 - val_acc: 0.7160\n",
      "Epoch 12/100\n",
      "147/147 [==============================] - 1s 7ms/step - loss: 0.9039 - acc: 0.6304 - val_loss: 0.4914 - val_acc: 0.7998\n",
      "Epoch 13/100\n",
      "147/147 [==============================] - 1s 8ms/step - loss: 0.8460 - acc: 0.6500 - val_loss: 0.5237 - val_acc: 0.7904\n",
      "Epoch 14/100\n",
      "147/147 [==============================] - 1s 7ms/step - loss: 0.8289 - acc: 0.6604 - val_loss: 0.6717 - val_acc: 0.6963\n",
      "Epoch 15/100\n",
      "147/147 [==============================] - 1s 7ms/step - loss: 0.8433 - acc: 0.6545 - val_loss: 0.5148 - val_acc: 0.7844\n",
      "Epoch 16/100\n",
      "147/147 [==============================] - 1s 9ms/step - loss: 0.7860 - acc: 0.6711 - val_loss: 0.4763 - val_acc: 0.7981\n",
      "Epoch 17/100\n",
      "147/147 [==============================] - 1s 8ms/step - loss: 0.7511 - acc: 0.6823 - val_loss: 0.4480 - val_acc: 0.8178\n",
      "Epoch 18/100\n",
      "147/147 [==============================] - 1s 9ms/step - loss: 0.7350 - acc: 0.6935 - val_loss: 0.4241 - val_acc: 0.8298\n",
      "Epoch 19/100\n",
      "147/147 [==============================] - 1s 9ms/step - loss: 0.7535 - acc: 0.6865 - val_loss: 0.4240 - val_acc: 0.8263\n",
      "Epoch 20/100\n",
      "147/147 [==============================] - 1s 10ms/step - loss: 0.7000 - acc: 0.7103 - val_loss: 0.4340 - val_acc: 0.8443\n",
      "Epoch 21/100\n",
      "147/147 [==============================] - 2s 11ms/step - loss: 0.6779 - acc: 0.7215 - val_loss: 0.4522 - val_acc: 0.8127\n",
      "Epoch 22/100\n",
      "147/147 [==============================] - 1s 9ms/step - loss: 0.7307 - acc: 0.7016 - val_loss: 0.4603 - val_acc: 0.7973\n",
      "Epoch 23/100\n",
      "147/147 [==============================] - 1s 7ms/step - loss: 0.6547 - acc: 0.7295 - val_loss: 0.4255 - val_acc: 0.8229\n",
      "Epoch 24/100\n",
      "147/147 [==============================] - 1s 7ms/step - loss: 0.7412 - acc: 0.7085 - val_loss: 0.4067 - val_acc: 0.8426\n",
      "Epoch 25/100\n",
      "147/147 [==============================] - 1s 7ms/step - loss: 0.6536 - acc: 0.7260 - val_loss: 0.4034 - val_acc: 0.8392\n",
      "\n",
      "Epoch 00025: ReduceLROnPlateau reducing learning rate to 0.00020000000949949026.\n",
      "Epoch 26/100\n",
      "147/147 [==============================] - 1s 7ms/step - loss: 0.6163 - acc: 0.7431 - val_loss: 0.3727 - val_acc: 0.8666\n",
      "Epoch 27/100\n",
      "147/147 [==============================] - 1s 7ms/step - loss: 0.5656 - acc: 0.7719 - val_loss: 0.3620 - val_acc: 0.8674\n",
      "Epoch 28/100\n",
      "147/147 [==============================] - 1s 7ms/step - loss: 0.5974 - acc: 0.7563 - val_loss: 0.3497 - val_acc: 0.8614\n",
      "Epoch 29/100\n",
      "147/147 [==============================] - 1s 7ms/step - loss: 0.5669 - acc: 0.7671 - val_loss: 0.3629 - val_acc: 0.8614\n",
      "Epoch 30/100\n",
      "147/147 [==============================] - 2s 11ms/step - loss: 0.5838 - acc: 0.7658 - val_loss: 0.3538 - val_acc: 0.8725\n",
      "Epoch 31/100\n",
      "147/147 [==============================] - 1s 10ms/step - loss: 0.5877 - acc: 0.7518 - val_loss: 0.3616 - val_acc: 0.8631\n",
      "Epoch 32/100\n",
      "147/147 [==============================] - 1s 9ms/step - loss: 0.5688 - acc: 0.7708 - val_loss: 0.3455 - val_acc: 0.8614\n",
      "Epoch 33/100\n",
      "147/147 [==============================] - 1s 8ms/step - loss: 0.5690 - acc: 0.7662 - val_loss: 0.3554 - val_acc: 0.8614\n",
      "Epoch 34/100\n",
      "147/147 [==============================] - 1s 8ms/step - loss: 0.5711 - acc: 0.7666 - val_loss: 0.3477 - val_acc: 0.8614\n",
      "Epoch 35/100\n",
      "147/147 [==============================] - 1s 9ms/step - loss: 0.5771 - acc: 0.7638 - val_loss: 0.3534 - val_acc: 0.8708\n",
      "\n",
      "Epoch 00035: ReduceLROnPlateau reducing learning rate to 4.0000001899898055e-05.\n",
      "Epoch 36/100\n",
      "147/147 [==============================] - 1s 9ms/step - loss: 0.5400 - acc: 0.7777 - val_loss: 0.3508 - val_acc: 0.8648\n",
      "Epoch 37/100\n",
      "147/147 [==============================] - 1s 9ms/step - loss: 0.5622 - acc: 0.7775 - val_loss: 0.3490 - val_acc: 0.8768\n",
      "Epoch 38/100\n",
      "147/147 [==============================] - 1s 9ms/step - loss: 0.5557 - acc: 0.7676 - val_loss: 0.3384 - val_acc: 0.8708\n",
      "Epoch 39/100\n",
      "147/147 [==============================] - 1s 8ms/step - loss: 0.5628 - acc: 0.7686 - val_loss: 0.3356 - val_acc: 0.8700\n",
      "Epoch 40/100\n",
      "147/147 [==============================] - 1s 9ms/step - loss: 0.5553 - acc: 0.7740 - val_loss: 0.3333 - val_acc: 0.8743\n",
      "Epoch 41/100\n",
      "147/147 [==============================] - 1s 9ms/step - loss: 0.5495 - acc: 0.7796 - val_loss: 0.3419 - val_acc: 0.8725\n",
      "Epoch 42/100\n",
      "147/147 [==============================] - 1s 8ms/step - loss: 0.5669 - acc: 0.7644 - val_loss: 0.3346 - val_acc: 0.8700\n",
      "\n",
      "Epoch 00042: ReduceLROnPlateau reducing learning rate to 1e-05.\n",
      "Epoch 43/100\n",
      "147/147 [==============================] - 1s 8ms/step - loss: 0.5493 - acc: 0.7681 - val_loss: 0.3353 - val_acc: 0.8683\n",
      "Epoch 44/100\n",
      "147/147 [==============================] - 1s 9ms/step - loss: 0.5512 - acc: 0.7730 - val_loss: 0.3379 - val_acc: 0.8674\n",
      "Epoch 45/100\n",
      "147/147 [==============================] - 1s 9ms/step - loss: 0.5608 - acc: 0.7742 - val_loss: 0.3359 - val_acc: 0.8674\n",
      "Epoch 46/100\n",
      "147/147 [==============================] - 1s 8ms/step - loss: 0.5595 - acc: 0.7676 - val_loss: 0.3343 - val_acc: 0.8683\n",
      "Epoch 47/100\n",
      "147/147 [==============================] - 1s 8ms/step - loss: 0.5657 - acc: 0.7674 - val_loss: 0.3343 - val_acc: 0.8725\n",
      "Restoring model weights from the end of the best epoch.\n",
      "Epoch 00047: early stopping\n"
     ]
    }
   ],
   "source": [
    "from tensorflow.keras.optimizers import Adam\n",
    "\n",
    "adam = Adam(learning_rate=0.001, beta_2=0.99, epsilon=0.01)\n",
    "\n",
    "model.compile(loss='categorical_crossentropy',\n",
    "              optimizer=adam,\n",
    "              metrics=['acc'])\n",
    "\n",
    "history = model.fit(x_train, y_train,\n",
    "                      epochs=100,\n",
    "                      batch_size=32,\n",
    "                      validation_split=val_split,\n",
    "                      callbacks=[early_stop, reduce_lr])"
   ]
  },
  {
   "cell_type": "code",
   "execution_count": 354,
   "metadata": {},
   "outputs": [
    {
     "data": {
      "text/plain": [
       "<matplotlib.legend.Legend at 0x260ec40c160>"
      ]
     },
     "execution_count": 354,
     "metadata": {},
     "output_type": "execute_result"
    },
    {
     "data": {
      "image/png": "[encoded data removed]",
      "text/plain": [
       "<Figure size 864x576 with 2 Axes>"
      ]
     },
     "metadata": {
      "needs_background": "light"
     },
     "output_type": "display_data"
    }
   ],
   "source": [
    "plt.figure(figsize=(12, 8))\n",
    "\n",
    "plt.subplot(2, 2, 1)\n",
    "plt.plot(history.history['loss'], label='train loss')\n",
    "plt.plot(history.history['val_loss'], label='val loss')\n",
    "plt.legend()\n",
    "\n",
    "plt.subplot(2, 2, 2)\n",
    "plt.plot(history.history['acc'], label='train acc')\n",
    "plt.plot(history.history['val_acc'], label='val acc')\n",
    "plt.legend()"
   ]
  },
  {
   "cell_type": "markdown",
   "metadata": {},
   "source": [
    "### Save Model"
   ]
  },
  {
   "cell_type": "code",
   "execution_count": 355,
   "metadata": {},
   "outputs": [],
   "source": [
    "model.save(f'{model.name}.h5')"
   ]
  },
  {
   "cell_type": "markdown",
   "metadata": {},
   "source": [
    "## Store Variables"
   ]
  },
  {
   "cell_type": "code",
   "execution_count": 356,
   "metadata": {},
   "outputs": [
    {
     "name": "stdout",
     "output_type": "stream",
     "text": [
      "Stored 'x_test' (ndarray)\n",
      "Stored 'y_test' (ndarray)\n",
      "Stored 'model_name' (str)\n",
      "Stored 'classes' (ndarray)\n"
     ]
    }
   ],
   "source": [
    "model_name = model.name\n",
    "%store x_test\n",
    "%store y_test\n",
    "%store model_name\n",
    "%store classes\n",
    "del x_test\n",
    "del y_test\n",
    "del model_name\n",
    "del classes"
   ]
  }
 ],
 "metadata": {
  "kernelspec": {
   "display_name": "Python 3",
   "language": "python",
   "name": "python3"
  },
  "language_info": {
   "codemirror_mode": {
    "name": "ipython",
    "version": 3
   },
   "file_extension": ".py",
   "mimetype": "text/x-python",
   "name": "python",
   "nbconvert_exporter": "python",
   "pygments_lexer": "ipython3",
   "version": "3.8.5"
  }
 },
 "nbformat": 4,
 "nbformat_minor": 4
}
