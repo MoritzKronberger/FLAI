{
 "cells": [
  {
   "cell_type": "markdown",
   "metadata": {},
   "source": [
    "# FLAI_Net Training"
   ]
  },
  {
   "cell_type": "code",
   "execution_count": 14,
   "metadata": {},
   "outputs": [],
   "source": [
    "import numpy as np\n",
    "import pandas as pd\n",
    "import matplotlib.pyplot as plt"
   ]
  },
  {
   "cell_type": "markdown",
   "metadata": {},
   "source": [
    "## Import Dataset"
   ]
  },
  {
   "cell_type": "code",
   "execution_count": 15,
   "metadata": {},
   "outputs": [
    {
     "data": {
      "text/html": [
       "<div>\n",
       "<style scoped>\n",
       "    .dataframe tbody tr th:only-of-type {\n",
       "        vertical-align: middle;\n",
       "    }\n",
       "\n",
       "    .dataframe tbody tr th {\n",
       "        vertical-align: top;\n",
       "    }\n",
       "\n",
       "    .dataframe thead th {\n",
       "        text-align: right;\n",
       "    }\n",
       "</style>\n",
       "<table border=\"1\" class=\"dataframe\">\n",
       "  <thead>\n",
       "    <tr style=\"text-align: right;\">\n",
       "      <th></th>\n",
       "      <th>user</th>\n",
       "      <th>label</th>\n",
       "      <th>coordinate 0</th>\n",
       "      <th>coordinate 1</th>\n",
       "      <th>coordinate 2</th>\n",
       "      <th>coordinate 3</th>\n",
       "      <th>coordinate 4</th>\n",
       "      <th>coordinate 5</th>\n",
       "      <th>coordinate 6</th>\n",
       "      <th>coordinate 7</th>\n",
       "      <th>...</th>\n",
       "      <th>coordinate 53</th>\n",
       "      <th>coordinate 54</th>\n",
       "      <th>coordinate 55</th>\n",
       "      <th>coordinate 56</th>\n",
       "      <th>coordinate 57</th>\n",
       "      <th>coordinate 58</th>\n",
       "      <th>coordinate 59</th>\n",
       "      <th>coordinate 60</th>\n",
       "      <th>coordinate 61</th>\n",
       "      <th>coordinate 62</th>\n",
       "    </tr>\n",
       "  </thead>\n",
       "  <tbody>\n",
       "    <tr>\n",
       "      <th>0</th>\n",
       "      <td>lea</td>\n",
       "      <td>a</td>\n",
       "      <td>0.699433</td>\n",
       "      <td>0.694308</td>\n",
       "      <td>-5.125001e-07</td>\n",
       "      <td>0.648201</td>\n",
       "      <td>0.623592</td>\n",
       "      <td>-0.013627</td>\n",
       "      <td>0.620721</td>\n",
       "      <td>0.537524</td>\n",
       "      <td>...</td>\n",
       "      <td>-0.021148</td>\n",
       "      <td>0.727923</td>\n",
       "      <td>0.482140</td>\n",
       "      <td>-0.033280</td>\n",
       "      <td>0.721847</td>\n",
       "      <td>0.531752</td>\n",
       "      <td>-0.020166</td>\n",
       "      <td>0.734710</td>\n",
       "      <td>0.541902</td>\n",
       "      <td>-0.006052</td>\n",
       "    </tr>\n",
       "    <tr>\n",
       "      <th>2055</th>\n",
       "      <td>Martin</td>\n",
       "      <td>a</td>\n",
       "      <td>0.755843</td>\n",
       "      <td>0.946230</td>\n",
       "      <td>-7.576355e-07</td>\n",
       "      <td>0.596653</td>\n",
       "      <td>0.829356</td>\n",
       "      <td>-0.110176</td>\n",
       "      <td>0.508049</td>\n",
       "      <td>0.659072</td>\n",
       "      <td>...</td>\n",
       "      <td>-0.162198</td>\n",
       "      <td>0.919824</td>\n",
       "      <td>0.336035</td>\n",
       "      <td>-0.268012</td>\n",
       "      <td>0.894528</td>\n",
       "      <td>0.449780</td>\n",
       "      <td>-0.275523</td>\n",
       "      <td>0.853873</td>\n",
       "      <td>0.497211</td>\n",
       "      <td>-0.263470</td>\n",
       "    </tr>\n",
       "    <tr>\n",
       "      <th>2054</th>\n",
       "      <td>Martin</td>\n",
       "      <td>a</td>\n",
       "      <td>0.448966</td>\n",
       "      <td>0.805226</td>\n",
       "      <td>-6.289455e-07</td>\n",
       "      <td>0.553169</td>\n",
       "      <td>0.762983</td>\n",
       "      <td>-0.027101</td>\n",
       "      <td>0.617719</td>\n",
       "      <td>0.629570</td>\n",
       "      <td>...</td>\n",
       "      <td>-0.031833</td>\n",
       "      <td>0.432160</td>\n",
       "      <td>0.389669</td>\n",
       "      <td>-0.056247</td>\n",
       "      <td>0.446245</td>\n",
       "      <td>0.467956</td>\n",
       "      <td>-0.039005</td>\n",
       "      <td>0.441467</td>\n",
       "      <td>0.513121</td>\n",
       "      <td>-0.018076</td>\n",
       "    </tr>\n",
       "    <tr>\n",
       "      <th>2053</th>\n",
       "      <td>Martin</td>\n",
       "      <td>a</td>\n",
       "      <td>0.642172</td>\n",
       "      <td>0.783267</td>\n",
       "      <td>-9.619788e-07</td>\n",
       "      <td>0.548792</td>\n",
       "      <td>0.735658</td>\n",
       "      <td>-0.047853</td>\n",
       "      <td>0.478785</td>\n",
       "      <td>0.619713</td>\n",
       "      <td>...</td>\n",
       "      <td>-0.012934</td>\n",
       "      <td>0.690963</td>\n",
       "      <td>0.380511</td>\n",
       "      <td>-0.038585</td>\n",
       "      <td>0.675585</td>\n",
       "      <td>0.456306</td>\n",
       "      <td>-0.021411</td>\n",
       "      <td>0.669445</td>\n",
       "      <td>0.498558</td>\n",
       "      <td>-0.000121</td>\n",
       "    </tr>\n",
       "    <tr>\n",
       "      <th>2052</th>\n",
       "      <td>Martin</td>\n",
       "      <td>a</td>\n",
       "      <td>0.712538</td>\n",
       "      <td>0.878059</td>\n",
       "      <td>-1.231915e-06</td>\n",
       "      <td>0.591809</td>\n",
       "      <td>0.799211</td>\n",
       "      <td>-0.057425</td>\n",
       "      <td>0.506353</td>\n",
       "      <td>0.622470</td>\n",
       "      <td>...</td>\n",
       "      <td>-0.024946</td>\n",
       "      <td>0.815513</td>\n",
       "      <td>0.338214</td>\n",
       "      <td>-0.068287</td>\n",
       "      <td>0.788838</td>\n",
       "      <td>0.439484</td>\n",
       "      <td>-0.054281</td>\n",
       "      <td>0.773832</td>\n",
       "      <td>0.491689</td>\n",
       "      <td>-0.031064</td>\n",
       "    </tr>\n",
       "  </tbody>\n",
       "</table>\n",
       "<p>5 rows × 65 columns</p>\n",
       "</div>"
      ],
      "text/plain": [
       "        user label  coordinate 0  coordinate 1  coordinate 2  coordinate 3  \\\n",
       "0        lea     a      0.699433      0.694308 -5.125001e-07      0.648201   \n",
       "2055  Martin     a      0.755843      0.946230 -7.576355e-07      0.596653   \n",
       "2054  Martin     a      0.448966      0.805226 -6.289455e-07      0.553169   \n",
       "2053  Martin     a      0.642172      0.783267 -9.619788e-07      0.548792   \n",
       "2052  Martin     a      0.712538      0.878059 -1.231915e-06      0.591809   \n",
       "\n",
       "      coordinate 4  coordinate 5  coordinate 6  coordinate 7  ...  \\\n",
       "0         0.623592     -0.013627      0.620721      0.537524  ...   \n",
       "2055      0.829356     -0.110176      0.508049      0.659072  ...   \n",
       "2054      0.762983     -0.027101      0.617719      0.629570  ...   \n",
       "2053      0.735658     -0.047853      0.478785      0.619713  ...   \n",
       "2052      0.799211     -0.057425      0.506353      0.622470  ...   \n",
       "\n",
       "      coordinate 53  coordinate 54  coordinate 55  coordinate 56  \\\n",
       "0         -0.021148       0.727923       0.482140      -0.033280   \n",
       "2055      -0.162198       0.919824       0.336035      -0.268012   \n",
       "2054      -0.031833       0.432160       0.389669      -0.056247   \n",
       "2053      -0.012934       0.690963       0.380511      -0.038585   \n",
       "2052      -0.024946       0.815513       0.338214      -0.068287   \n",
       "\n",
       "      coordinate 57  coordinate 58  coordinate 59  coordinate 60  \\\n",
       "0          0.721847       0.531752      -0.020166       0.734710   \n",
       "2055       0.894528       0.449780      -0.275523       0.853873   \n",
       "2054       0.446245       0.467956      -0.039005       0.441467   \n",
       "2053       0.675585       0.456306      -0.021411       0.669445   \n",
       "2052       0.788838       0.439484      -0.054281       0.773832   \n",
       "\n",
       "      coordinate 61  coordinate 62  \n",
       "0          0.541902      -0.006052  \n",
       "2055       0.497211      -0.263470  \n",
       "2054       0.513121      -0.018076  \n",
       "2053       0.498558      -0.000121  \n",
       "2052       0.491689      -0.031064  \n",
       "\n",
       "[5 rows x 65 columns]"
      ]
     },
     "execution_count": 15,
     "metadata": {},
     "output_type": "execute_result"
    }
   ],
   "source": [
    "ds = pd.read_csv('../dataset/flai_data.csv')\n",
    "ds = ds.sort_values('label')\n",
    "ds.head()"
   ]
  },
  {
   "cell_type": "code",
   "execution_count": 16,
   "metadata": {},
   "outputs": [],
   "source": [
    "#ds.drop(ds[ds.user=='eva'].index, inplace=True)\n",
    "#ds.drop(ds[ds.user=='kieu'].index, inplace=True)"
   ]
  },
  {
   "cell_type": "markdown",
   "metadata": {},
   "source": [
    "### Dataset Statistics"
   ]
  },
  {
   "cell_type": "code",
   "execution_count": 17,
   "metadata": {},
   "outputs": [
    {
     "name": "stdout",
     "output_type": "stream",
     "text": [
      "Samples: 7306\n",
      "Unique contributors: 7\n",
      "Classes: ['a' 'b' 'c' 'd' 'e' 'f' 'g' 'h' 'i' 'k' 'l' 'm' 'n' 'o' 'p' 'q' 'r' 's'\n",
      " 't' 'u' 'v' 'w' 'x' 'y']\n"
     ]
    }
   ],
   "source": [
    "num_samples = len(ds)\n",
    "num_contributors = len(pd.unique(ds.user))\n",
    "classes = pd.unique(ds.label)\n",
    "print(f'Samples: {num_samples}')\n",
    "print(f'Unique contributors: {num_contributors}')\n",
    "print(f'Classes: {classes}')"
   ]
  },
  {
   "cell_type": "code",
   "execution_count": 18,
   "metadata": {},
   "outputs": [
    {
     "data": {
      "image/png": "[encoded data removed]",
      "text/plain": [
       "<Figure size 432x288 with 1 Axes>"
      ]
     },
     "metadata": {
      "needs_background": "light"
     },
     "output_type": "display_data"
    }
   ],
   "source": [
    "samples_per_label = ds.label.value_counts().sort_index()\n",
    "color = (112/255, 219/255, 189/255)\n",
    "x_pos = [i for i in range(len(samples_per_label.index))]\n",
    "plt.bar(x_pos, samples_per_label, color=color)\n",
    "plt.xticks(x_pos, samples_per_label.index)\n",
    "plt.ylabel('Samples per Class')\n",
    "plt.title('Sample Count per Class')\n",
    "plt.show()"
   ]
  },
  {
   "cell_type": "markdown",
   "metadata": {},
   "source": [
    "### Shuffle and Split Dataset"
   ]
  },
  {
   "cell_type": "code",
   "execution_count": 19,
   "metadata": {},
   "outputs": [],
   "source": [
    "ds_y = ds.label.array\n",
    "ds_y = pd.factorize(ds_y)[0]\n",
    "ds_y = np.array(ds_y)\n",
    "\n",
    "ds_x = ds.drop(['label', 'user'], axis=1)\n",
    "ds_x = ds_x.to_numpy()"
   ]
  },
  {
   "cell_type": "markdown",
   "metadata": {},
   "source": [
    "### Reshape Landmark Vectors"
   ]
  },
  {
   "cell_type": "code",
   "execution_count": 20,
   "metadata": {},
   "outputs": [
    {
     "name": "stdout",
     "output_type": "stream",
     "text": [
      "(7306,)\n",
      "(7306, 63)\n"
     ]
    }
   ],
   "source": [
    "print(ds_y.shape)\n",
    "print(ds_x.shape)"
   ]
  },
  {
   "cell_type": "code",
   "execution_count": 21,
   "metadata": {},
   "outputs": [],
   "source": [
    "# ds_x[0]"
   ]
  },
  {
   "cell_type": "code",
   "execution_count": 22,
   "metadata": {},
   "outputs": [
    {
     "name": "stdout",
     "output_type": "stream",
     "text": [
      "(7306, 21, 3)\n"
     ]
    }
   ],
   "source": [
    "num_samples = ds_x.shape[0]\n",
    "dim = 3\n",
    "landmarks = 21\n",
    "ds_x = ds_x.reshape((num_samples, landmarks, dim))\n",
    "print(ds_x.shape)"
   ]
  },
  {
   "cell_type": "code",
   "execution_count": 23,
   "metadata": {},
   "outputs": [],
   "source": [
    "# ds_x[0]"
   ]
  },
  {
   "cell_type": "code",
   "execution_count": 24,
   "metadata": {},
   "outputs": [],
   "source": [
    "from sklearn.model_selection import train_test_split\n",
    "x_train, x_test, y_train, y_test = train_test_split(ds_x, ds_y, test_size=0.2, random_state=42)"
   ]
  },
  {
   "cell_type": "code",
   "execution_count": 25,
   "metadata": {},
   "outputs": [
    {
     "name": "stdout",
     "output_type": "stream",
     "text": [
      "(5844, 21, 3)\n",
      "(5844,)\n",
      "(1462, 21, 3)\n",
      "(1462,)\n"
     ]
    }
   ],
   "source": [
    "print(x_train.shape)\n",
    "print(y_train.shape)\n",
    "print(x_test.shape)\n",
    "print(y_test.shape)"
   ]
  },
  {
   "cell_type": "markdown",
   "metadata": {},
   "source": [
    "### Plot Vectors"
   ]
  },
  {
   "cell_type": "code",
   "execution_count": 28,
   "metadata": {},
   "outputs": [
    {
     "data": {
      "image/png": "[encoded data removed]",
      "text/plain": [
       "<Figure size 432x288 with 1 Axes>"
      ]
     },
     "metadata": {
      "needs_background": "light"
     },
     "output_type": "display_data"
    }
   ],
   "source": [
    "num = 10\n",
    "example = ds_x[num]\n",
    "label = ds_y[num]\n",
    "\n",
    "fig = plt.figure()\n",
    "ax = fig.add_subplot(projection='3d')\n",
    "\n",
    "for vec in example:\n",
    "    ax.scatter(vec[0], vec[2], vec[1], c=[color])\n",
    "\n",
    "plt.title(f'Label: {classes[label]}')\n",
    "ax.set_xlabel('X')\n",
    "ax.set_ylabel('Z')\n",
    "ax.set_zlabel('Y')\n",
    "\n",
    "plt.show()"
   ]
  },
  {
   "cell_type": "markdown",
   "metadata": {},
   "source": [
    "## Train Neural Network"
   ]
  },
  {
   "cell_type": "markdown",
   "metadata": {},
   "source": [
    "### Set Hyperparameters"
   ]
  },
  {
   "cell_type": "code",
   "execution_count": null,
   "metadata": {},
   "outputs": [],
   "source": [
    "epochs = 10\n",
    "val_split = .2"
   ]
  },
  {
   "cell_type": "markdown",
   "metadata": {},
   "source": [
    "### Labels to One Hot"
   ]
  },
  {
   "cell_type": "code",
   "execution_count": null,
   "metadata": {},
   "outputs": [
    {
     "name": "stdout",
     "output_type": "stream",
     "text": [
      "(5844, 24)\n",
      "(1462, 24)\n"
     ]
    }
   ],
   "source": [
    "from tensorflow.keras.utils import to_categorical\n",
    "\n",
    "y_train = to_categorical(y_train.astype(int))\n",
    "y_test = to_categorical(y_test.astype(int))\n",
    "\n",
    "print(y_train.shape)\n",
    "print(y_test.shape)"
   ]
  },
  {
   "cell_type": "markdown",
   "metadata": {},
   "source": [
    "### Create Callbacks"
   ]
  },
  {
   "cell_type": "code",
   "execution_count": null,
   "metadata": {},
   "outputs": [],
   "source": [
    "from tensorflow.keras.callbacks import EarlyStopping, ReduceLROnPlateau\n",
    "\n",
    "early_stop = EarlyStopping(monitor='val_acc',\n",
    "                           restore_best_weights=True,\n",
    "                           patience=10,\n",
    "                           verbose=1)\n",
    "\n",
    "reduce_lr = ReduceLROnPlateau(monitor='val_acc',\n",
    "                              factor=0.2,\n",
    "                              min_lr=0.00001,\n",
    "                              patience=5,\n",
    "                              verbose=1)"
   ]
  },
  {
   "cell_type": "markdown",
   "metadata": {},
   "source": [
    "### Create Model"
   ]
  },
  {
   "cell_type": "code",
   "execution_count": null,
   "metadata": {},
   "outputs": [
    {
     "name": "stdout",
     "output_type": "stream",
     "text": [
      "Model: \"Deep_Flai_7\"\n",
      "_________________________________________________________________\n",
      "Layer (type)                 Output Shape              Param #   \n",
      "=================================================================\n",
      "input_35 (InputLayer)        [(None, 21, 3)]           0         \n",
      "_________________________________________________________________\n",
      "flatten_5 (Flatten)          (None, 63)                0         \n",
      "_________________________________________________________________\n",
      "Dense_1 (Dense)              (None, 3072)              196608    \n",
      "_________________________________________________________________\n",
      "Dropout_1 (AlphaDropout)     (None, 3072)              0         \n",
      "_________________________________________________________________\n",
      "Dense_2 (Dense)              (None, 2352)              7227696   \n",
      "_________________________________________________________________\n",
      "Dropout_2 (AlphaDropout)     (None, 2352)              0         \n",
      "_________________________________________________________________\n",
      "Dense_3 (Dense)              (None, 1728)              4065984   \n",
      "_________________________________________________________________\n",
      "Dropout_3 (AlphaDropout)     (None, 1728)              0         \n",
      "_________________________________________________________________\n",
      "Dense_4 (Dense)              (None, 1200)              2074800   \n",
      "_________________________________________________________________\n",
      "Dropout_4 (AlphaDropout)     (None, 1200)              0         \n",
      "_________________________________________________________________\n",
      "Dense_5 (Dense)              (None, 768)               922368    \n",
      "_________________________________________________________________\n",
      "Dropout_5 (AlphaDropout)     (None, 768)               0         \n",
      "_________________________________________________________________\n",
      "Dense_6 (Dense)              (None, 432)               332208    \n",
      "_________________________________________________________________\n",
      "Dropout_6 (AlphaDropout)     (None, 432)               0         \n",
      "_________________________________________________________________\n",
      "Dense_7 (Dense)              (None, 192)               83136     \n",
      "_________________________________________________________________\n",
      "Dropout_7 (AlphaDropout)     (None, 192)               0         \n",
      "_________________________________________________________________\n",
      "Dense_8 (Dense)              (None, 48)                9264      \n",
      "_________________________________________________________________\n",
      "Dropout_8 (AlphaDropout)     (None, 48)                0         \n",
      "_________________________________________________________________\n",
      "output_dense (Dense)         (None, 24)                1176      \n",
      "=================================================================\n",
      "Total params: 14,913,240\n",
      "Trainable params: 14,913,240\n",
      "Non-trainable params: 0\n",
      "_________________________________________________________________\n"
     ]
    }
   ],
   "source": [
    "from tensorflow.keras import Input, Model\n",
    "from tensorflow.keras.layers import Dense, Flatten, AlphaDropout\n",
    "from tensorflow.keras.layers.experimental.preprocessing import Normalization\n",
    "\n",
    "inputs = Input(shape=x_train[0].shape)\n",
    "#norm = Normalization(axis=None)\n",
    "#norm.adapt(x_train)\n",
    "#normalized_input = norm(inputs)\n",
    "flatten = Flatten()(inputs)\n",
    "\n",
    "dense_count = 8\n",
    "dense_base = 48\n",
    "out = flatten\n",
    "\n",
    "for i in range(dense_count):\n",
    "    units = (dense_count-i) * (dense_count-i) * dense_base\n",
    "    dense = Dense(units, \n",
    "                  kernel_initializer=\"lecun_normal\", \n",
    "                  bias_initializer=\"zeros\", \n",
    "                  activation='selu',\n",
    "                  name=f'Dense_{i+1}')\n",
    "    a_dropout = AlphaDropout(0.05, name=f'Dropout_{i+1}')\n",
    "    out = dense(out)\n",
    "    out = a_dropout(out)\n",
    "\n",
    "outputs = Dense(y_train[0].shape[0], activation='softmax', name='output_dense')(out)\n",
    "model = Model(inputs=inputs, outputs=outputs, name=\"Deep_Flai_7\")\n",
    "model.summary()"
   ]
  },
  {
   "cell_type": "markdown",
   "metadata": {},
   "source": [
    "### Train Model"
   ]
  },
  {
   "cell_type": "code",
   "execution_count": null,
   "metadata": {},
   "outputs": [
    {
     "name": "stdout",
     "output_type": "stream",
     "text": [
      "Epoch 1/100\n",
      "147/147 [==============================] - 2s 8ms/step - loss: 3.3635 - acc: 0.0550 - val_loss: 2.7027 - val_acc: 0.1642\n",
      "Epoch 2/100\n",
      "147/147 [==============================] - 1s 9ms/step - loss: 2.7402 - acc: 0.1501 - val_loss: 1.5648 - val_acc: 0.3875\n",
      "Epoch 3/100\n",
      "147/147 [==============================] - 1s 8ms/step - loss: 1.9694 - acc: 0.2980 - val_loss: 1.0957 - val_acc: 0.5372\n",
      "Epoch 4/100\n",
      "147/147 [==============================] - 1s 7ms/step - loss: 1.5586 - acc: 0.4064 - val_loss: 0.9797 - val_acc: 0.6039\n",
      "Epoch 5/100\n",
      "147/147 [==============================] - 1s 7ms/step - loss: 1.4208 - acc: 0.4501 - val_loss: 0.7497 - val_acc: 0.6972\n",
      "Epoch 6/100\n",
      "147/147 [==============================] - 1s 8ms/step - loss: 1.2584 - acc: 0.5032 - val_loss: 0.6988 - val_acc: 0.7451\n",
      "Epoch 7/100\n",
      "147/147 [==============================] - 1s 7ms/step - loss: 1.1183 - acc: 0.5546 - val_loss: 0.5901 - val_acc: 0.7784\n",
      "Epoch 8/100\n",
      "147/147 [==============================] - 1s 7ms/step - loss: 1.0528 - acc: 0.5688 - val_loss: 0.6228 - val_acc: 0.7536\n",
      "Epoch 9/100\n",
      "147/147 [==============================] - 1s 7ms/step - loss: 1.0450 - acc: 0.5821 - val_loss: 0.6197 - val_acc: 0.7331\n",
      "Epoch 10/100\n",
      "147/147 [==============================] - 1s 7ms/step - loss: 0.9512 - acc: 0.6000 - val_loss: 0.5840 - val_acc: 0.7331\n",
      "Epoch 11/100\n",
      "147/147 [==============================] - 1s 7ms/step - loss: 0.9448 - acc: 0.6052 - val_loss: 0.5019 - val_acc: 0.7998\n",
      "Epoch 12/100\n",
      "147/147 [==============================] - 1s 8ms/step - loss: 0.9018 - acc: 0.6267 - val_loss: 0.5853 - val_acc: 0.7725\n",
      "Epoch 13/100\n",
      "147/147 [==============================] - 1s 7ms/step - loss: 0.9043 - acc: 0.6253 - val_loss: 0.5407 - val_acc: 0.7442\n",
      "Epoch 14/100\n",
      "147/147 [==============================] - 1s 7ms/step - loss: 0.8663 - acc: 0.6570 - val_loss: 0.4887 - val_acc: 0.7913\n",
      "Epoch 15/100\n",
      "147/147 [==============================] - 1s 7ms/step - loss: 0.8136 - acc: 0.6663 - val_loss: 0.4881 - val_acc: 0.7836\n",
      "Epoch 16/100\n",
      "147/147 [==============================] - 1s 9ms/step - loss: 0.7886 - acc: 0.6802 - val_loss: 0.5200 - val_acc: 0.8015\n",
      "Epoch 17/100\n",
      "147/147 [==============================] - 1s 8ms/step - loss: 0.7649 - acc: 0.6853 - val_loss: 0.6477 - val_acc: 0.7211\n",
      "Epoch 18/100\n",
      "147/147 [==============================] - 1s 7ms/step - loss: 0.7747 - acc: 0.6774 - val_loss: 0.5305 - val_acc: 0.7562\n",
      "Epoch 19/100\n",
      "147/147 [==============================] - 1s 7ms/step - loss: 0.7099 - acc: 0.7065 - val_loss: 0.4358 - val_acc: 0.8298\n",
      "Epoch 20/100\n",
      "147/147 [==============================] - 1s 7ms/step - loss: 0.6911 - acc: 0.7238 - val_loss: 0.4438 - val_acc: 0.8109\n",
      "Epoch 21/100\n",
      "147/147 [==============================] - 1s 9ms/step - loss: 0.7084 - acc: 0.7021 - val_loss: 0.4486 - val_acc: 0.8298\n",
      "Epoch 22/100\n",
      "147/147 [==============================] - 1s 8ms/step - loss: 0.6853 - acc: 0.7166 - val_loss: 0.4102 - val_acc: 0.8332\n",
      "Epoch 23/100\n",
      "147/147 [==============================] - 1s 8ms/step - loss: 0.6897 - acc: 0.7068 - val_loss: 0.4570 - val_acc: 0.8058\n",
      "Epoch 24/100\n",
      "147/147 [==============================] - 1s 9ms/step - loss: 0.6558 - acc: 0.7404 - val_loss: 0.4383 - val_acc: 0.8289\n",
      "Epoch 25/100\n",
      "147/147 [==============================] - 1s 9ms/step - loss: 0.6823 - acc: 0.7205 - val_loss: 0.3972 - val_acc: 0.8537\n",
      "Epoch 26/100\n",
      "147/147 [==============================] - 1s 9ms/step - loss: 0.6392 - acc: 0.7315 - val_loss: 0.4028 - val_acc: 0.8298\n",
      "Epoch 27/100\n",
      "147/147 [==============================] - 1s 8ms/step - loss: 0.6572 - acc: 0.7227 - val_loss: 0.3826 - val_acc: 0.8486\n",
      "Epoch 28/100\n",
      "147/147 [==============================] - 1s 8ms/step - loss: 0.6490 - acc: 0.7250 - val_loss: 0.4078 - val_acc: 0.8383\n",
      "Epoch 29/100\n",
      "147/147 [==============================] - 1s 8ms/step - loss: 0.6040 - acc: 0.7486 - val_loss: 0.3583 - val_acc: 0.8529\n",
      "Epoch 30/100\n",
      "147/147 [==============================] - 1s 9ms/step - loss: 0.6048 - acc: 0.7446 - val_loss: 0.3985 - val_acc: 0.8366\n",
      "\n",
      "Epoch 00030: ReduceLROnPlateau reducing learning rate to 0.00020000000949949026.\n",
      "Epoch 31/100\n",
      "147/147 [==============================] - 1s 8ms/step - loss: 0.5932 - acc: 0.7580 - val_loss: 0.3537 - val_acc: 0.8640\n",
      "Epoch 32/100\n",
      "147/147 [==============================] - 1s 7ms/step - loss: 0.5685 - acc: 0.7662 - val_loss: 0.3267 - val_acc: 0.8785\n",
      "Epoch 33/100\n",
      "147/147 [==============================] - 1s 9ms/step - loss: 0.5648 - acc: 0.7639 - val_loss: 0.3377 - val_acc: 0.8674\n",
      "Epoch 34/100\n",
      "147/147 [==============================] - 1s 8ms/step - loss: 0.5288 - acc: 0.7794 - val_loss: 0.3288 - val_acc: 0.8717\n",
      "Epoch 35/100\n",
      "147/147 [==============================] - 1s 8ms/step - loss: 0.5490 - acc: 0.7796 - val_loss: 0.3279 - val_acc: 0.8725\n",
      "Epoch 36/100\n",
      "147/147 [==============================] - 1s 8ms/step - loss: 0.5511 - acc: 0.7766 - val_loss: 0.3237 - val_acc: 0.8777\n",
      "Epoch 37/100\n",
      "147/147 [==============================] - 2s 11ms/step - loss: 0.5465 - acc: 0.7754 - val_loss: 0.3357 - val_acc: 0.8811\n",
      "Epoch 38/100\n",
      "147/147 [==============================] - 1s 9ms/step - loss: 0.5158 - acc: 0.7911 - val_loss: 0.3129 - val_acc: 0.8734\n",
      "Epoch 39/100\n",
      "147/147 [==============================] - 1s 8ms/step - loss: 0.5413 - acc: 0.7845 - val_loss: 0.3189 - val_acc: 0.8734\n",
      "Epoch 40/100\n",
      "147/147 [==============================] - 1s 8ms/step - loss: 0.5228 - acc: 0.7813 - val_loss: 0.3136 - val_acc: 0.8734\n",
      "Epoch 41/100\n",
      "147/147 [==============================] - 1s 8ms/step - loss: 0.5395 - acc: 0.7925 - val_loss: 0.3108 - val_acc: 0.8802\n",
      "Epoch 42/100\n",
      "147/147 [==============================] - 1s 8ms/step - loss: 0.5235 - acc: 0.7731 - val_loss: 0.3343 - val_acc: 0.8683\n",
      "\n",
      "Epoch 00042: ReduceLROnPlateau reducing learning rate to 4.0000001899898055e-05.\n",
      "Epoch 43/100\n",
      "147/147 [==============================] - 2s 13ms/step - loss: 0.5213 - acc: 0.7856 - val_loss: 0.3132 - val_acc: 0.8768\n",
      "Epoch 44/100\n",
      "147/147 [==============================] - 2s 15ms/step - loss: 0.5357 - acc: 0.7889 - val_loss: 0.3135 - val_acc: 0.8734\n",
      "Epoch 45/100\n",
      "147/147 [==============================] - 2s 13ms/step - loss: 0.5085 - acc: 0.7937 - val_loss: 0.3089 - val_acc: 0.8777\n",
      "Epoch 46/100\n",
      "147/147 [==============================] - 2s 12ms/step - loss: 0.5207 - acc: 0.7803 - val_loss: 0.3098 - val_acc: 0.8785\n",
      "Epoch 47/100\n",
      "147/147 [==============================] - 2s 11ms/step - loss: 0.5434 - acc: 0.7756 - val_loss: 0.3109 - val_acc: 0.8811\n",
      "Restoring model weights from the end of the best epoch.\n",
      "\n",
      "Epoch 00047: ReduceLROnPlateau reducing learning rate to 1e-05.\n",
      "Epoch 00047: early stopping\n"
     ]
    }
   ],
   "source": [
    "from tensorflow.keras.optimizers import Adam\n",
    "\n",
    "adam = Adam(learning_rate=0.001, beta_2=0.99, epsilon=0.01)\n",
    "\n",
    "model.compile(loss='categorical_crossentropy',\n",
    "              optimizer=adam,\n",
    "              metrics=['acc'])\n",
    "\n",
    "history = model.fit(x_train, y_train,\n",
    "                      epochs=100,\n",
    "                      batch_size=32,\n",
    "                      validation_split=val_split,\n",
    "                      callbacks=[early_stop, reduce_lr])"
   ]
  },
  {
   "cell_type": "code",
   "execution_count": null,
   "metadata": {},
   "outputs": [
    {
     "data": {
      "text/plain": [
       "<matplotlib.legend.Legend at 0x26080eddfd0>"
      ]
     },
     "execution_count": 376,
     "metadata": {},
     "output_type": "execute_result"
    },
    {
     "data": {
      "image/png": "[encoded data removed]",
      "text/plain": [
       "<Figure size 864x576 with 2 Axes>"
      ]
     },
     "metadata": {
      "needs_background": "light"
     },
     "output_type": "display_data"
    }
   ],
   "source": [
    "plt.figure(figsize=(12, 8))\n",
    "\n",
    "plt.subplot(2, 2, 1)\n",
    "plt.plot(history.history['loss'], label='train loss')\n",
    "plt.plot(history.history['val_loss'], label='val loss')\n",
    "plt.legend()\n",
    "\n",
    "plt.subplot(2, 2, 2)\n",
    "plt.plot(history.history['acc'], label='train acc')\n",
    "plt.plot(history.history['val_acc'], label='val acc')\n",
    "plt.legend()"
   ]
  },
  {
   "cell_type": "markdown",
   "metadata": {},
   "source": [
    "### Save Model"
   ]
  },
  {
   "cell_type": "code",
   "execution_count": null,
   "metadata": {},
   "outputs": [],
   "source": [
    "model.save(f'{model.name}.h5')"
   ]
  },
  {
   "cell_type": "markdown",
   "metadata": {},
   "source": [
    "## Store Variables"
   ]
  },
  {
   "cell_type": "code",
   "execution_count": null,
   "metadata": {},
   "outputs": [
    {
     "name": "stdout",
     "output_type": "stream",
     "text": [
      "Stored 'x_test' (ndarray)\n",
      "Stored 'y_test' (ndarray)\n",
      "Stored 'model_name' (str)\n",
      "Stored 'classes' (ndarray)\n"
     ]
    }
   ],
   "source": [
    "model_name = model.name\n",
    "%store x_test\n",
    "%store y_test\n",
    "%store model_name\n",
    "%store classes\n",
    "del x_test\n",
    "del y_test\n",
    "del model_name\n",
    "del classes"
   ]
  }
 ],
 "metadata": {
  "kernelspec": {
   "display_name": "Python 3",
   "language": "python",
   "name": "python3"
  },
  "language_info": {
   "codemirror_mode": {
    "name": "ipython",
    "version": 3
   },
   "file_extension": ".py",
   "mimetype": "text/x-python",
   "name": "python",
   "nbconvert_exporter": "python",
   "pygments_lexer": "ipython3",
   "version": "3.8.5"
  }
 },
 "nbformat": 4,
 "nbformat_minor": 4
}
